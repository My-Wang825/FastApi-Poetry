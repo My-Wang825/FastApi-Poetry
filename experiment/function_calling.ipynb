{
 "cells": [
  {
   "cell_type": "code",
   "execution_count": 1,
   "metadata": {},
   "outputs": [],
   "source": [
    "from openai import OpenAI\n",
    "import json\n",
    "import json\n",
    "from typing import Union\n",
    "import os\n",
    "\n",
    "from dotenv import find_dotenv, load_dotenv\n",
    "\n",
    "load_dotenv(find_dotenv())\n",
    "\n",
    "client = OpenAI(\n",
    "    api_key=os.getenv(\"OPENAI_API_KEY\"),\n",
    "    base_url=os.getenv(\"OPENAI_BASE_URL\"),\n",
    ")"
   ]
  },
  {
   "cell_type": "code",
   "execution_count": 2,
   "metadata": {},
   "outputs": [],
   "source": [
    "# 定义查询鲜花库存的函数\n",
    "def get_flower_inventory(city):\n",
    "    \"\"\"获取指定城市的鲜花库存\"\"\"\n",
    "    if \"北京\" in city:\n",
    "        return json.dumps({\"city\": \"北京\", \"inventory\": \"玫瑰: 100, 郁金香: 150\"})\n",
    "    elif \"上海\" in city:\n",
    "        return json.dumps({\"city\": \"上海\", \"inventory\": \"百合: 80, 康乃馨: 120\"})\n",
    "    elif \"深圳\" in city:\n",
    "        return json.dumps({\"city\": \"深圳\", \"inventory\": \"向日葵: 200, 玉兰: 90\"})\n",
    "    else:\n",
    "        return json.dumps({\"city\": city, \"inventory\": \"未知\"})\n",
    "# 定义工具列表（函数元数据）\n",
    "tools = [\n",
    "    {\n",
    "        \"type\": \"function\",\n",
    "        \"function\": {\n",
    "            \"name\": \"get_flower_inventory\",\n",
    "            \"description\": \"获取指定城市的鲜花库存\",\n",
    "            \"parameters\": {\n",
    "                \"type\": \"object\",\n",
    "                \"properties\": {\n",
    "                    \"city\": {\n",
    "                        \"type\": \"string\",\n",
    "                        \"description\": \"城市名称，如北京、上海或深圳\"\n",
    "                    }\n",
    "                },\n",
    "                \"required\": [\"city\"]\n",
    "            }\n",
    "        }\n",
    "    }\n",
    "]\n"
   ]
  },
  {
   "cell_type": "code",
   "execution_count": 3,
   "metadata": {},
   "outputs": [
    {
     "name": "stdout",
     "output_type": "stream",
     "text": [
      "message: [{'role': 'user', 'content': '北京、上海和深圳的鲜花库存是多少？'}]\n",
      "ChatCompletion(id='chat-f1d204ffc9684bdd9cc19085f232ffda', choices=[Choice(finish_reason='tool_calls', index=0, logprobs=None, message=ChatCompletionMessage(content=None, refusal=None, role='assistant', audio=None, function_call=None, tool_calls=[ChatCompletionMessageToolCall(id='chatcmpl-tool-124ea2fa27fd47d4b375bc53055062df', function=Function(arguments='{\"city\": \"\\\\u5317\\\\u4eac\"}', name='get_flower_inventory'), type='function'), ChatCompletionMessageToolCall(id='chatcmpl-tool-c7b7b7d8f0994252b16135a8a836b034', function=Function(arguments='{\"city\": \"\\\\u4e0a\\\\u6d77\"}', name='get_flower_inventory'), type='function'), ChatCompletionMessageToolCall(id='chatcmpl-tool-47d98eff886c44ba81d9162334e55eac', function=Function(arguments='{\"city\": \"\\\\u6df1\\\\u5733\"}', name='get_flower_inventory'), type='function')]), stop_reason=None)], created=1735788147, model='qwen25:72b', object='chat.completion', service_tier=None, system_fingerprint=None, usage=CompletionUsage(completion_tokens=66, prompt_tokens=188, total_tokens=254, completion_tokens_details=None, prompt_tokens_details=None), prompt_logprobs=None)\n"
     ]
    }
   ],
   "source": [
    "# 初始化对话内容\n",
    "messages = [{\"role\": \"user\", \"content\": \"北京、上海和深圳的鲜花库存是多少？\"}]\n",
    "print(\"message:\", messages)\n",
    "# 第一次对话响应\n",
    "first_response = client.chat.completions.create(\n",
    "    model=\"qwen25:72b\",\n",
    "    messages=messages,\n",
    "    tools=tools,\n",
    "    tool_choice=\"auto\"\n",
    ")\n",
    "# 打印响应的内容\n",
    "print(first_response)\n",
    "response_message = first_response.choices[0].message"
   ]
  },
  {
   "cell_type": "code",
   "execution_count": 4,
   "metadata": {},
   "outputs": [
    {
     "name": "stdout",
     "output_type": "stream",
     "text": [
      "message: [{'role': 'user', 'content': '北京、上海和深圳的鲜花库存是多少？'}, ChatCompletionMessage(content=None, refusal=None, role='assistant', audio=None, function_call=None, tool_calls=[ChatCompletionMessageToolCall(id='chatcmpl-tool-124ea2fa27fd47d4b375bc53055062df', function=Function(arguments='{\"city\": \"\\\\u5317\\\\u4eac\"}', name='get_flower_inventory'), type='function'), ChatCompletionMessageToolCall(id='chatcmpl-tool-c7b7b7d8f0994252b16135a8a836b034', function=Function(arguments='{\"city\": \"\\\\u4e0a\\\\u6d77\"}', name='get_flower_inventory'), type='function'), ChatCompletionMessageToolCall(id='chatcmpl-tool-47d98eff886c44ba81d9162334e55eac', function=Function(arguments='{\"city\": \"\\\\u6df1\\\\u5733\"}', name='get_flower_inventory'), type='function')]), {'tool_call_id': 'chatcmpl-tool-124ea2fa27fd47d4b375bc53055062df', 'role': 'tool', 'name': 'get_flower_inventory', 'content': '{\"city\": \"\\\\u5317\\\\u4eac\", \"inventory\": \"\\\\u73ab\\\\u7470: 100, \\\\u90c1\\\\u91d1\\\\u9999: 150\"}'}, {'tool_call_id': 'chatcmpl-tool-c7b7b7d8f0994252b16135a8a836b034', 'role': 'tool', 'name': 'get_flower_inventory', 'content': '{\"city\": \"\\\\u4e0a\\\\u6d77\", \"inventory\": \"\\\\u767e\\\\u5408: 80, \\\\u5eb7\\\\u4e43\\\\u99a8: 120\"}'}, {'tool_call_id': 'chatcmpl-tool-47d98eff886c44ba81d9162334e55eac', 'role': 'tool', 'name': 'get_flower_inventory', 'content': '{\"city\": \"\\\\u6df1\\\\u5733\", \"inventory\": \"\\\\u5411\\\\u65e5\\\\u8475: 200, \\\\u7389\\\\u5170: 90\"}'}]\n"
     ]
    }
   ],
   "source": [
    "# 检查是否需要调用工具\n",
    "tool_calls = response_message.tool_calls\n",
    "if tool_calls:\n",
    "    messages.append(response_message)\n",
    "# 如果需要调用工具，调用工具并添加库存查询结果\n",
    "    for tool_call in tool_calls:\n",
    "        function_name = tool_call.function.name\n",
    "        function_args = json.loads(tool_call.function.arguments)\n",
    "        function_response = get_flower_inventory(\n",
    "            city=function_args.get(\"city\")\n",
    "        )\n",
    "        messages.append(\n",
    "            {\n",
    "                \"tool_call_id\": tool_call.id,\n",
    "                \"role\": \"tool\",\n",
    "                \"name\": function_name,\n",
    "                \"content\": function_response,\n",
    "            }\n",
    "        )\n",
    "# 打印当前消息列表\n",
    "print(\"message:\", messages)"
   ]
  },
  {
   "cell_type": "code",
   "execution_count": 5,
   "metadata": {},
   "outputs": [
    {
     "name": "stdout",
     "output_type": "stream",
     "text": [
      "ChatCompletionMessage(content='以下是北京、上海和深圳的鲜花库存情况：\\n\\n- **北京**:\\n  - 玫瑰: 100\\n  - 铁线莲: 150\\n\\n- **上海**:\\n  - 百合: 80\\n  - 康乃馨: 120\\n\\n- **深圳**:\\n  - 向日葵: 200\\n  - 兰花: 90\\n\\n这些数据可以帮助您了解当前各城市的鲜花供应情况。如果您需要更多信息或有其他需求，欢迎随时询问！', refusal=None, role='assistant', audio=None, function_call=None, tool_calls=[])\n"
     ]
    }
   ],
   "source": [
    "# 第二次向大模型发送对话以获取最终响应\n",
    "second_response = client.chat.completions.create(\n",
    "    model=\"qwen25:72b\",\n",
    "    messages=messages\n",
    ")\n",
    "# 打印最终响应\n",
    "final_response = second_response.choices[0].message\n",
    "print(final_response)"
   ]
  }
 ],
 "metadata": {
  "kernelspec": {
   "display_name": "poetryenv",
   "language": "python",
   "name": "python3"
  },
  "language_info": {
   "codemirror_mode": {
    "name": "ipython",
    "version": 3
   },
   "file_extension": ".py",
   "mimetype": "text/x-python",
   "name": "python",
   "nbconvert_exporter": "python",
   "pygments_lexer": "ipython3",
   "version": "3.11.11"
  }
 },
 "nbformat": 4,
 "nbformat_minor": 2
}
