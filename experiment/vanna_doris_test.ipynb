{
 "cells": [
  {
   "cell_type": "code",
   "execution_count": 10,
   "metadata": {},
   "outputs": [
    {
     "data": {
      "text/plain": [
       "True"
      ]
     },
     "execution_count": 10,
     "metadata": {},
     "output_type": "execute_result"
    }
   ],
   "source": [
    "import json\n",
    "from typing import Union\n",
    "import os\n",
    "from fastapi import FastAPI, HTTPException\n",
    "from vanna.openai import OpenAI_Chat\n",
    "from vanna.chromadb import ChromaDB_VectorStore\n",
    "import pandas as pd\n",
    "from dotenv import find_dotenv, load_dotenv\n",
    "from vanna.chromadb import ChromaDB_VectorStore\n",
    "from vanna.openai import OpenAI_Chat\n",
    "from chromadb.utils import embedding_functions\n",
    "from openai import OpenAI\n",
    "from pydantic import BaseModel\n",
    "\n",
    "load_dotenv(find_dotenv())\n"
   ]
  },
  {
   "cell_type": "code",
   "execution_count": 11,
   "metadata": {},
   "outputs": [],
   "source": [
    "\n",
    "class MyVanna(ChromaDB_VectorStore, OpenAI_Chat):\n",
    "    def __init__(self, config=None):\n",
    "        ChromaDB_VectorStore.__init__(self, config=config)\n",
    "        OpenAI_Chat.__init__(self, config=config)\n"
   ]
  },
  {
   "cell_type": "code",
   "execution_count": 12,
   "metadata": {},
   "outputs": [],
   "source": [
    "# Select the embedding model to use.\n",
    "# List of model names can be found here https://www.sbert.net/docs/pretrained_models.html\n",
    "sentence_transformer_ef = embedding_functions.SentenceTransformerEmbeddingFunction(\n",
    "    model_name=\"BAAI/bge-large-zh-v1.5\",\n",
    ")\n",
    "client = OpenAI(\n",
    "    api_key=os.getenv(\"OPENAI_API_KEY\"),\n",
    "    base_url=os.getenv(\"OPENAI_BASE_URL\"),\n",
    ")\n",
    "vn = MyVanna(\n",
    "    config={\n",
    "        \"model\": \"qwen25:72b\",\n",
    "        \"temperature\": 0,\n",
    "        \"language\": \"chinese\",\n",
    "        \"path\": \"..\\chromadb_data\",\n",
    "        \"embedding_function\": sentence_transformer_ef,\n",
    "    }\n",
    ")\n",
    "\n",
    "vn.connect_to_mysql(host=os.getenv(\"DORIS_HOST\"), dbname=os.getenv(\"DORIS_DATABASE\"), user=os.getenv(\"DORIS_USER\"), password=os.getenv(\"DORIS_PASSWORD\"), port=int(os.getenv(\"DORIS_PORT\")))"
   ]
  },
  {
   "cell_type": "code",
   "execution_count": null,
   "metadata": {},
   "outputs": [],
   "source": [
    "# The information schema query may need some tweaking depending on your database. This is a good starting point.\n",
    "df_information_schema = vn.run_sql(\"SELECT * FROM INFORMATION_SCHEMA.COLUMNS\")\n"
   ]
  },
  {
   "cell_type": "code",
   "execution_count": null,
   "metadata": {},
   "outputs": [],
   "source": [
    "# This will break up the information schema into bite-sized chunks that can be referenced by the LLM\n",
    "plan = vn.get_training_plan_generic(df_information_schema)"
   ]
  },
  {
   "cell_type": "code",
   "execution_count": null,
   "metadata": {},
   "outputs": [],
   "source": [
    "# If you like the plan, then uncomment this and run it to train\n",
    "vn.train(plan=plan)"
   ]
  },
  {
   "cell_type": "code",
   "execution_count": null,
   "metadata": {},
   "outputs": [],
   "source": [
    "question = '订单数量排名前五的采购订单信息,查询的字段必须有其对应的中文别名。'\n",
    "sql_query = vn.generate_sql(question)"
   ]
  },
  {
   "cell_type": "code",
   "execution_count": null,
   "metadata": {},
   "outputs": [],
   "source": [
    "df_result = vn.run_sql(sql_query)\n",
    "df_result"
   ]
  },
  {
   "cell_type": "code",
   "execution_count": null,
   "metadata": {},
   "outputs": [],
   "source": [
    "poltly_code  = vn.generate_plotly_code(question,sql_query,df_result)\n",
    "poltly_code"
   ]
  },
  {
   "cell_type": "code",
   "execution_count": null,
   "metadata": {},
   "outputs": [],
   "source": [
    "figure = vn.get_plotly_figure(poltly_code,df_result,dark_mode=False)\n",
    "figure"
   ]
  },
  {
   "cell_type": "code",
   "execution_count": 11,
   "metadata": {},
   "outputs": [],
   "source": [
    "import plotly.io as pio\n",
    "plotly_json = pio.to_json(figure)\n",
    "\n"
   ]
  },
  {
   "cell_type": "code",
   "execution_count": null,
   "metadata": {},
   "outputs": [],
   "source": [
    "sumamary  = vn.generate_summary(question,df_result)\n",
    "sumamary"
   ]
  },
  {
   "cell_type": "code",
   "execution_count": null,
   "metadata": {},
   "outputs": [],
   "source": [
    "from plotly.io import from_json\n",
    "\n",
    "fig = from_json(plotly_json)\n",
    "fig.show()"
   ]
  }
 ],
 "metadata": {
  "kernelspec": {
   "display_name": "poetryenv",
   "language": "python",
   "name": "python3"
  },
  "language_info": {
   "codemirror_mode": {
    "name": "ipython",
    "version": 3
   },
   "file_extension": ".py",
   "mimetype": "text/x-python",
   "name": "python",
   "nbconvert_exporter": "python",
   "pygments_lexer": "ipython3",
   "version": "3.11.11"
  }
 },
 "nbformat": 4,
 "nbformat_minor": 2
}
