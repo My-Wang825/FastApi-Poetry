{
 "cells": [
  {
   "cell_type": "code",
   "execution_count": 1,
   "metadata": {},
   "outputs": [
    {
     "data": {
      "text/plain": [
       "True"
      ]
     },
     "execution_count": 1,
     "metadata": {},
     "output_type": "execute_result"
    }
   ],
   "source": [
    "import json\n",
    "from typing import Union\n",
    "import os\n",
    "from fastapi import FastAPI, HTTPException\n",
    "from vanna.openai import OpenAI_Chat\n",
    "from vanna.chromadb import ChromaDB_VectorStore\n",
    "import pandas as pd\n",
    "from dotenv import find_dotenv, load_dotenv\n",
    "from vanna.chromadb import ChromaDB_VectorStore\n",
    "from vanna.openai import OpenAI_Chat\n",
    "from chromadb.utils import embedding_functions\n",
    "from openai import OpenAI\n",
    "from pydantic import BaseModel\n",
    "\n",
    "load_dotenv(find_dotenv())\n"
   ]
  },
  {
   "cell_type": "code",
   "execution_count": 2,
   "metadata": {},
   "outputs": [],
   "source": [
    "\n",
    "class MyVanna(ChromaDB_VectorStore, OpenAI_Chat):\n",
    "    def __init__(self, client=None, config=None):\n",
    "        ChromaDB_VectorStore.__init__(self, config=config)\n",
    "        OpenAI_Chat.__init__(self,client=client, config=config)\n"
   ]
  },
  {
   "cell_type": "code",
   "execution_count": 3,
   "metadata": {},
   "outputs": [
    {
     "name": "stderr",
     "output_type": "stream",
     "text": [
      "e:\\CodeTool\\Anaconda3\\envs\\poetryenv\\Lib\\site-packages\\tqdm\\auto.py:21: TqdmWarning: IProgress not found. Please update jupyter and ipywidgets. See https://ipywidgets.readthedocs.io/en/stable/user_install.html\n",
      "  from .autonotebook import tqdm as notebook_tqdm\n"
     ]
    }
   ],
   "source": [
    "# Select the embedding model to use.\n",
    "# List of model names can be found here https://www.sbert.net/docs/pretrained_models.html\n",
    "sentence_transformer_ef = embedding_functions.SentenceTransformerEmbeddingFunction(\n",
    "    model_name=\"BAAI/bge-large-zh-v1.5\",\n",
    ")\n",
    "client = OpenAI(\n",
    "    api_key=os.getenv(\"OPENAI_API_KEY\"),\n",
    "    base_url=os.getenv(\"OPENAI_BASE_URL\"),\n",
    ")\n",
    "vn = MyVanna(\n",
    "    client=client,\n",
    "    config={\n",
    "        \"model\": \"qwen25:72b\",\n",
    "        \"temperature\": 0,\n",
    "        \"language\": \"chinese\",\n",
    "        \"path\": \"..\\chromadb_data\",\n",
    "        \"embedding_function\": sentence_transformer_ef,\n",
    "    }\n",
    ")\n",
    "\n",
    "vn.connect_to_mysql(host=os.getenv(\"DORIS_HOST\"), dbname=os.getenv(\"DORIS_DATABASE\"), user=os.getenv(\"DORIS_USER\"), password=os.getenv(\"DORIS_PASSWORD\"), port=int(os.getenv(\"DORIS_PORT\")))"
   ]
  },
  {
   "cell_type": "code",
   "execution_count": 4,
   "metadata": {},
   "outputs": [],
   "source": [
    "srm_pur_po_dll = '''\n",
    "    -- sdhq.ods_v_srm_pur_po definition 采购订单表\n",
    "\n",
    "CREATE TABLE `ods_v_srm_pur_po` (\n",
    "  `item_id` BIGINT NOT NULL AUTO_INCREMENT(1) COMMENT '采购项目ID',\n",
    "  `created_by_code` VARCHAR(255) NULL COMMENT '采购订单行创建人员工编号',\n",
    "  `created_by_name` VARCHAR(255) NULL COMMENT '采购订单行创建人名称',\n",
    "  `updated_by_code` VARCHAR(255) NULL COMMENT '采购订单行更新人员工编号',\n",
    "  `updated_by_name` VARCHAR(255) NULL COMMENT '采购订单行更新人名称',\n",
    "  `created_at` DATETIME NULL COMMENT '采购订单行创建时间',\n",
    "  `updated_at` DATETIME NULL COMMENT '采购订单行更新时间',\n",
    "  `item_deleted` TINYINT NULL COMMENT '采购订单行逻辑删除标识。非0为删除；0正常',\n",
    "  `po_item_code` VARCHAR(255) NULL COMMENT '采购订单行编号',\n",
    "  `po_item_qty_pur` DECIMAL(18, 2) NULL COMMENT '订单数量',\n",
    "  `po_item_qty_ful` DECIMAL(18, 2) NULL COMMENT '累计入库数量',\n",
    "  `price_gross` DECIMAL(18, 2) NULL COMMENT '含税单价',\n",
    "  `amount_gross` DECIMAL(18, 2) NULL COMMENT '含税总金额',\n",
    "  `amount_net` DECIMAL(18, 2) NULL COMMENT '不含税金额',\n",
    "  `tax_amount` DECIMAL(18, 2) NULL COMMENT '税额',\n",
    "  `mat_code` VARCHAR(255) NULL COMMENT '采购订单行 物料信息编码',\n",
    "  `mat_name` VARCHAR(500) NULL COMMENT '采购订单行 物料信息名称',\n",
    "  `ext_wq_specification` VARCHAR(500) NULL COMMENT '采购订单行 物料信息规格型号',\n",
    "  `uom_desc` VARCHAR(255) NULL COMMENT '采购订单行 物料单位',\n",
    "  `mat_cate_code` VARCHAR(255) NULL COMMENT '采购订单行 物料分类编码',\n",
    "  `mat_cate_name` VARCHAR(255) NULL COMMENT '采购订单行 物料分类名称',\n",
    "  `mat_prop` VARCHAR(255) NULL COMMENT '采购订单行 物料属性',\n",
    "  `po_item_qty_rg` DECIMAL(18, 2) NULL COMMENT '累计申请退货数量',\n",
    "  `pur_po_head_tr_id` BIGINT NULL COMMENT '采购订单表头id',\n",
    "  `po_item_qty_dn` DECIMAL(18, 2) NULL COMMENT '在途数量',\n",
    "  `arrival_quantity` DECIMAL(18, 2) NULL COMMENT '已到货未入库数量',\n",
    "  `exchange_quantity` DECIMAL(18, 2) NULL COMMENT '换货数量',\n",
    "  `item_status` VARCHAR(255) NULL COMMENT '采购订单行状态',\n",
    "  `del_remain_qty` DECIMAL(18, 2) NULL COMMENT '剩余可发货数量',\n",
    "  `head_id` BIGINT NULL COMMENT '采购订单头表id',\n",
    "  `head_deleted` TINYINT NULL COMMENT '采购订请单头表逻辑删除标识。非0为删除；0正常',\n",
    "  `po_code` VARCHAR(255) NULL COMMENT '采购订请单头表订单编号',\n",
    "  `status` VARCHAR(255) NULL COMMENT '采购订请单头表状态',\n",
    "  `ext_wq_sync_state` VARCHAR(255) NULL COMMENT '采购订请单头表同步状态',\n",
    "  `ext_wq_buy_type` VARCHAR(255) NULL COMMENT '采购订请单头表请购类型',\n",
    "  `ext_wq_po_type` VARCHAR(255) NULL COMMENT '采购订请单头表单据类型—魏桥',\n",
    "  `bud_project_name` VARCHAR(255) NULL COMMENT '施工项目名称',\n",
    "  `ext_inv_org_unit_name` VARCHAR(255) NULL COMMENT '需求部门名称',\n",
    "  `pur_org_name` VARCHAR(255) NULL COMMENT '采购组织名称',\n",
    "  `vend_name` VARCHAR(255) NULL COMMENT '供应商名称',\n",
    "  `inv_org_name` VARCHAR(255) NULL COMMENT '库存组织名称',\n",
    "  `industry_type` VARCHAR(255) NULL COMMENT '库存组织所属行业属性',\n",
    "  `inv_loc_name` VARCHAR(255) NULL COMMENT '库存地点名称',\n",
    "  `elt_time` DATETIME NULL COMMENT '抽取时间'\n",
    ") ENGINE=OLAP\n",
    "UNIQUE KEY(`item_id`)\n",
    "COMMENT '采购订单视图表'\n",
    "DISTRIBUTED BY HASH(`item_id`) BUCKETS AUTO\n",
    "PROPERTIES (\n",
    "\"replication_allocation\" = \"tag.location.default: 1\",\n",
    "\"min_load_replica_num\" = \"-1\",\n",
    "\"is_being_synced\" = \"false\",\n",
    "\"storage_medium\" = \"hdd\",\n",
    "\"storage_format\" = \"V2\",\n",
    "\"inverted_index_storage_format\" = \"V1\",\n",
    "\"enable_unique_key_merge_on_write\" = \"true\",\n",
    "\"light_schema_change\" = \"true\",\n",
    "\"disable_auto_compaction\" = \"false\",\n",
    "\"enable_single_replica_compaction\" = \"false\",\n",
    "\"group_commit_interval_ms\" = \"10000\",\n",
    "\"group_commit_data_bytes\" = \"134217728\"\n",
    ");\n",
    "'''"
   ]
  },
  {
   "cell_type": "code",
   "execution_count": 5,
   "metadata": {},
   "outputs": [],
   "source": [
    "srm_pur_pr_ddl = '''\n",
    "-- sdhq.ods_v_srm_pur_pr definition  采购申请表\n",
    "\n",
    "CREATE TABLE `ods_v_srm_pur_pr` (\n",
    "  `item_id` BIGINT NOT NULL AUTO_INCREMENT(1) COMMENT '采购项目ID',\n",
    "  `created_by_code` VARCHAR(255) NULL COMMENT '采购申请行创建人员工编号',\n",
    "  `created_by_name` VARCHAR(255) NULL COMMENT '采购申请行创建人名称',\n",
    "  `updated_by_code` VARCHAR(255) NULL COMMENT '采购申请行更新人员工编号',\n",
    "  `updated_by_name` VARCHAR(255) NULL COMMENT '采购申请行更新人名称',\n",
    "  `created_at` DATETIME NULL COMMENT '采购申请行创建时间',\n",
    "  `updated_at` DATETIME NULL COMMENT '采购申请行更新时间',\n",
    "  `item_deleted` TINYINT NULL COMMENT '采购申请行逻辑删除标识。非0为删除；0正常',\n",
    "  `pr_item_status` VARCHAR(255) NULL COMMENT '采购申请行 行状态',\n",
    "  `pr_qty` DOUBLE NULL COMMENT '采购申请行申请数量',\n",
    "  `mat_code` VARCHAR(255) NULL COMMENT '采购申请行 物料信息编码',\n",
    "  `mat_name` VARCHAR(600) NULL COMMENT '采购申请行 物料信息名称',\n",
    "  `ext_wq_specification` VARCHAR(600) NULL COMMENT '采购申请行 物料信息规格型号',\n",
    "  `uom_desc` VARCHAR(255) NULL COMMENT '采购申请行 物料单位',\n",
    "  `mat_cate_code` VARCHAR(255) NULL COMMENT '采购申请行 物料分类编码',\n",
    "  `mat_cate_name` VARCHAR(255) NULL COMMENT '采购申请行 物料分类名称',\n",
    "  `mat_prop` VARCHAR(255) NULL COMMENT '采购申请行 物料属性',\n",
    "  `pur_employee_code` VARCHAR(255) NULL COMMENT '采购员编码',\n",
    "  `pur_employee_name` VARCHAR(255) NULL COMMENT '采购员名称',\n",
    "  `pur_pr_head_tr_id` BIGINT NULL COMMENT '采购申请单据表id',\n",
    "  `ext_wq_sync_status` VARCHAR(255) NULL COMMENT '采购申请行同步状态',\n",
    "  `head_id` BIGINT NULL COMMENT '采购申请单id',\n",
    "  `head_deleted` TINYINT NULL COMMENT '采购申请单逻辑删除标识。非0为删除；0正常',\n",
    "  `pr_code` VARCHAR(255) NULL COMMENT '采购申请单编号',\n",
    "  `pr_status` VARCHAR(255) NULL COMMENT '采购申请单状态',\n",
    "  `approve_status` VARCHAR(255) NULL COMMENT '审批状态',\n",
    "  `origin` VARCHAR(255) NULL COMMENT '来源',\n",
    "  `stock_control_name` VARCHAR(255) NULL COMMENT '库存组织名称',\n",
    "  `industry_type` VARCHAR(255) NULL COMMENT '库存组织所属行业类型',\n",
    "  `buy_type` VARCHAR(255) NULL COMMENT '请购类型',\n",
    "  `pur_org_name` VARCHAR(255) NULL COMMENT '采购组织名称',\n",
    "  `sync_status` VARCHAR(255) NULL COMMENT '同步状态',\n",
    "  `pr_date_apply` DATE NULL COMMENT '申请日期',\n",
    "  `buy_store_name` VARCHAR(255) NULL COMMENT '需求仓库名称（需求公司名称）',\n",
    "  `buy_department_name` VARCHAR(255) NULL COMMENT '需求部门名称',\n",
    "  `ext_wq_erp_code` VARCHAR(255) NULL COMMENT '外部单据编号',\n",
    "  `use_to` VARCHAR(255) NULL COMMENT '用途',\n",
    "  `plan_type_name` VARCHAR(255) NULL COMMENT '计划类型名称',\n",
    "  `ext_wq_task_name` VARCHAR(255) NULL COMMENT '施工项目名称',\n",
    "  `elt_time` DATETIME NULL COMMENT '抽取时间'\n",
    ") ENGINE=OLAP\n",
    "UNIQUE KEY(`item_id`)\n",
    "COMMENT '采购申请视图表'\n",
    "DISTRIBUTED BY HASH(`item_id`) BUCKETS AUTO\n",
    "PROPERTIES (\n",
    "\"replication_allocation\" = \"tag.location.default: 1\",\n",
    "\"min_load_replica_num\" = \"-1\",\n",
    "\"is_being_synced\" = \"false\",\n",
    "\"storage_medium\" = \"hdd\",\n",
    "\"storage_format\" = \"V2\",\n",
    "\"inverted_index_storage_format\" = \"V1\",\n",
    "\"enable_unique_key_merge_on_write\" = \"true\",\n",
    "\"light_schema_change\" = \"true\",\n",
    "\"disable_auto_compaction\" = \"false\",\n",
    "\"enable_single_replica_compaction\" = \"false\",\n",
    "\"group_commit_interval_ms\" = \"10000\",\n",
    "\"group_commit_data_bytes\" = \"134217728\"\n",
    ");\n",
    "'''"
   ]
  },
  {
   "cell_type": "code",
   "execution_count": 6,
   "metadata": {},
   "outputs": [
    {
     "name": "stdout",
     "output_type": "stream",
     "text": [
      "Adding ddl: \n",
      "    -- sdhq.ods_v_srm_pur_po definition 采购订单表\n",
      "\n",
      "CREATE TABLE `ods_v_srm_pur_po` (\n",
      "  `item_id` BIGINT NOT NULL AUTO_INCREMENT(1) COMMENT '采购项目ID',\n",
      "  `created_by_code` VARCHAR(255) NULL COMMENT '采购订单行创建人员工编号',\n",
      "  `created_by_name` VARCHAR(255) NULL COMMENT '采购订单行创建人名称',\n",
      "  `updated_by_code` VARCHAR(255) NULL COMMENT '采购订单行更新人员工编号',\n",
      "  `updated_by_name` VARCHAR(255) NULL COMMENT '采购订单行更新人名称',\n",
      "  `created_at` DATETIME NULL COMMENT '采购订单行创建时间',\n",
      "  `updated_at` DATETIME NULL COMMENT '采购订单行更新时间',\n",
      "  `item_deleted` TINYINT NULL COMMENT '采购订单行逻辑删除标识。非0为删除；0正常',\n",
      "  `po_item_code` VARCHAR(255) NULL COMMENT '采购订单行编号',\n",
      "  `po_item_qty_pur` DECIMAL(18, 2) NULL COMMENT '订单数量',\n",
      "  `po_item_qty_ful` DECIMAL(18, 2) NULL COMMENT '累计入库数量',\n",
      "  `price_gross` DECIMAL(18, 2) NULL COMMENT '含税单价',\n",
      "  `amount_gross` DECIMAL(18, 2) NULL COMMENT '含税总金额',\n",
      "  `amount_net` DECIMAL(18, 2) NULL COMMENT '不含税金额',\n",
      "  `tax_amount` DECIMAL(18, 2) NULL COMMENT '税额',\n",
      "  `mat_code` VARCHAR(255) NULL COMMENT '采购订单行 物料信息编码',\n",
      "  `mat_name` VARCHAR(500) NULL COMMENT '采购订单行 物料信息名称',\n",
      "  `ext_wq_specification` VARCHAR(500) NULL COMMENT '采购订单行 物料信息规格型号',\n",
      "  `uom_desc` VARCHAR(255) NULL COMMENT '采购订单行 物料单位',\n",
      "  `mat_cate_code` VARCHAR(255) NULL COMMENT '采购订单行 物料分类编码',\n",
      "  `mat_cate_name` VARCHAR(255) NULL COMMENT '采购订单行 物料分类名称',\n",
      "  `mat_prop` VARCHAR(255) NULL COMMENT '采购订单行 物料属性',\n",
      "  `po_item_qty_rg` DECIMAL(18, 2) NULL COMMENT '累计申请退货数量',\n",
      "  `pur_po_head_tr_id` BIGINT NULL COMMENT '采购订单表头id',\n",
      "  `po_item_qty_dn` DECIMAL(18, 2) NULL COMMENT '在途数量',\n",
      "  `arrival_quantity` DECIMAL(18, 2) NULL COMMENT '已到货未入库数量',\n",
      "  `exchange_quantity` DECIMAL(18, 2) NULL COMMENT '换货数量',\n",
      "  `item_status` VARCHAR(255) NULL COMMENT '采购订单行状态',\n",
      "  `del_remain_qty` DECIMAL(18, 2) NULL COMMENT '剩余可发货数量',\n",
      "  `head_id` BIGINT NULL COMMENT '采购订单头表id',\n",
      "  `head_deleted` TINYINT NULL COMMENT '采购订请单头表逻辑删除标识。非0为删除；0正常',\n",
      "  `po_code` VARCHAR(255) NULL COMMENT '采购订请单头表订单编号',\n",
      "  `status` VARCHAR(255) NULL COMMENT '采购订请单头表状态',\n",
      "  `ext_wq_sync_state` VARCHAR(255) NULL COMMENT '采购订请单头表同步状态',\n",
      "  `ext_wq_buy_type` VARCHAR(255) NULL COMMENT '采购订请单头表请购类型',\n",
      "  `ext_wq_po_type` VARCHAR(255) NULL COMMENT '采购订请单头表单据类型—魏桥',\n",
      "  `bud_project_name` VARCHAR(255) NULL COMMENT '施工项目名称',\n",
      "  `ext_inv_org_unit_name` VARCHAR(255) NULL COMMENT '需求部门名称',\n",
      "  `pur_org_name` VARCHAR(255) NULL COMMENT '采购组织名称',\n",
      "  `vend_name` VARCHAR(255) NULL COMMENT '供应商名称',\n",
      "  `inv_org_name` VARCHAR(255) NULL COMMENT '库存组织名称',\n",
      "  `industry_type` VARCHAR(255) NULL COMMENT '库存组织所属行业属性',\n",
      "  `inv_loc_name` VARCHAR(255) NULL COMMENT '库存地点名称',\n",
      "  `elt_time` DATETIME NULL COMMENT '抽取时间'\n",
      ") ENGINE=OLAP\n",
      "UNIQUE KEY(`item_id`)\n",
      "COMMENT '采购订单视图表'\n",
      "DISTRIBUTED BY HASH(`item_id`) BUCKETS AUTO\n",
      "PROPERTIES (\n",
      "\"replication_allocation\" = \"tag.location.default: 1\",\n",
      "\"min_load_replica_num\" = \"-1\",\n",
      "\"is_being_synced\" = \"false\",\n",
      "\"storage_medium\" = \"hdd\",\n",
      "\"storage_format\" = \"V2\",\n",
      "\"inverted_index_storage_format\" = \"V1\",\n",
      "\"enable_unique_key_merge_on_write\" = \"true\",\n",
      "\"light_schema_change\" = \"true\",\n",
      "\"disable_auto_compaction\" = \"false\",\n",
      "\"enable_single_replica_compaction\" = \"false\",\n",
      "\"group_commit_interval_ms\" = \"10000\",\n",
      "\"group_commit_data_bytes\" = \"134217728\"\n",
      ");\n",
      "\n"
     ]
    },
    {
     "name": "stderr",
     "output_type": "stream",
     "text": [
      "Insert of existing embedding ID: 457a612f-e13a-5ff5-8e41-1ea1dc4f4564-ddl\n",
      "Add of existing embedding ID: 457a612f-e13a-5ff5-8e41-1ea1dc4f4564-ddl\n"
     ]
    },
    {
     "name": "stdout",
     "output_type": "stream",
     "text": [
      "Adding ddl: \n",
      "-- sdhq.ods_v_srm_pur_pr definition  采购申请表\n",
      "\n",
      "CREATE TABLE `ods_v_srm_pur_pr` (\n",
      "  `item_id` BIGINT NOT NULL AUTO_INCREMENT(1) COMMENT '采购项目ID',\n",
      "  `created_by_code` VARCHAR(255) NULL COMMENT '采购申请行创建人员工编号',\n",
      "  `created_by_name` VARCHAR(255) NULL COMMENT '采购申请行创建人名称',\n",
      "  `updated_by_code` VARCHAR(255) NULL COMMENT '采购申请行更新人员工编号',\n",
      "  `updated_by_name` VARCHAR(255) NULL COMMENT '采购申请行更新人名称',\n",
      "  `created_at` DATETIME NULL COMMENT '采购申请行创建时间',\n",
      "  `updated_at` DATETIME NULL COMMENT '采购申请行更新时间',\n",
      "  `item_deleted` TINYINT NULL COMMENT '采购申请行逻辑删除标识。非0为删除；0正常',\n",
      "  `pr_item_status` VARCHAR(255) NULL COMMENT '采购申请行 行状态',\n",
      "  `pr_qty` DOUBLE NULL COMMENT '采购申请行申请数量',\n",
      "  `mat_code` VARCHAR(255) NULL COMMENT '采购申请行 物料信息编码',\n",
      "  `mat_name` VARCHAR(600) NULL COMMENT '采购申请行 物料信息名称',\n",
      "  `ext_wq_specification` VARCHAR(600) NULL COMMENT '采购申请行 物料信息规格型号',\n",
      "  `uom_desc` VARCHAR(255) NULL COMMENT '采购申请行 物料单位',\n",
      "  `mat_cate_code` VARCHAR(255) NULL COMMENT '采购申请行 物料分类编码',\n",
      "  `mat_cate_name` VARCHAR(255) NULL COMMENT '采购申请行 物料分类名称',\n",
      "  `mat_prop` VARCHAR(255) NULL COMMENT '采购申请行 物料属性',\n",
      "  `pur_employee_code` VARCHAR(255) NULL COMMENT '采购员编码',\n",
      "  `pur_employee_name` VARCHAR(255) NULL COMMENT '采购员名称',\n",
      "  `pur_pr_head_tr_id` BIGINT NULL COMMENT '采购申请单据表id',\n",
      "  `ext_wq_sync_status` VARCHAR(255) NULL COMMENT '采购申请行同步状态',\n",
      "  `head_id` BIGINT NULL COMMENT '采购申请单id',\n",
      "  `head_deleted` TINYINT NULL COMMENT '采购申请单逻辑删除标识。非0为删除；0正常',\n",
      "  `pr_code` VARCHAR(255) NULL COMMENT '采购申请单编号',\n",
      "  `pr_status` VARCHAR(255) NULL COMMENT '采购申请单状态',\n",
      "  `approve_status` VARCHAR(255) NULL COMMENT '审批状态',\n",
      "  `origin` VARCHAR(255) NULL COMMENT '来源',\n",
      "  `stock_control_name` VARCHAR(255) NULL COMMENT '库存组织名称',\n",
      "  `industry_type` VARCHAR(255) NULL COMMENT '库存组织所属行业类型',\n",
      "  `buy_type` VARCHAR(255) NULL COMMENT '请购类型',\n",
      "  `pur_org_name` VARCHAR(255) NULL COMMENT '采购组织名称',\n",
      "  `sync_status` VARCHAR(255) NULL COMMENT '同步状态',\n",
      "  `pr_date_apply` DATE NULL COMMENT '申请日期',\n",
      "  `buy_store_name` VARCHAR(255) NULL COMMENT '需求仓库名称（需求公司名称）',\n",
      "  `buy_department_name` VARCHAR(255) NULL COMMENT '需求部门名称',\n",
      "  `ext_wq_erp_code` VARCHAR(255) NULL COMMENT '外部单据编号',\n",
      "  `use_to` VARCHAR(255) NULL COMMENT '用途',\n",
      "  `plan_type_name` VARCHAR(255) NULL COMMENT '计划类型名称',\n",
      "  `ext_wq_task_name` VARCHAR(255) NULL COMMENT '施工项目名称',\n",
      "  `elt_time` DATETIME NULL COMMENT '抽取时间'\n",
      ") ENGINE=OLAP\n",
      "UNIQUE KEY(`item_id`)\n",
      "COMMENT '采购申请视图表'\n",
      "DISTRIBUTED BY HASH(`item_id`) BUCKETS AUTO\n",
      "PROPERTIES (\n",
      "\"replication_allocation\" = \"tag.location.default: 1\",\n",
      "\"min_load_replica_num\" = \"-1\",\n",
      "\"is_being_synced\" = \"false\",\n",
      "\"storage_medium\" = \"hdd\",\n",
      "\"storage_format\" = \"V2\",\n",
      "\"inverted_index_storage_format\" = \"V1\",\n",
      "\"enable_unique_key_merge_on_write\" = \"true\",\n",
      "\"light_schema_change\" = \"true\",\n",
      "\"disable_auto_compaction\" = \"false\",\n",
      "\"enable_single_replica_compaction\" = \"false\",\n",
      "\"group_commit_interval_ms\" = \"10000\",\n",
      "\"group_commit_data_bytes\" = \"134217728\"\n",
      ");\n",
      "\n"
     ]
    },
    {
     "name": "stderr",
     "output_type": "stream",
     "text": [
      "Insert of existing embedding ID: fe0f0061-1523-5f87-ad89-210accf3ee52-ddl\n",
      "Add of existing embedding ID: fe0f0061-1523-5f87-ad89-210accf3ee52-ddl\n"
     ]
    },
    {
     "data": {
      "text/plain": [
       "'fe0f0061-1523-5f87-ad89-210accf3ee52-ddl'"
      ]
     },
     "execution_count": 6,
     "metadata": {},
     "output_type": "execute_result"
    }
   ],
   "source": [
    "vn.train(ddl=srm_pur_po_dll)\n",
    "vn.train(ddl=srm_pur_pr_ddl)"
   ]
  },
  {
   "cell_type": "code",
   "execution_count": 7,
   "metadata": {},
   "outputs": [
    {
     "name": "stderr",
     "output_type": "stream",
     "text": [
      "Number of requested results 10 is greater than number of elements in index 2, updating n_results = 2\n"
     ]
    },
    {
     "name": "stdout",
     "output_type": "stream",
     "text": [
      "SQL Prompt: [{'role': 'system', 'content': 'You are a SQL expert. Please help to generate a SQL query to answer the question. Your response should ONLY be based on the given context and follow the response guidelines and format instructions. \\n===Tables \\n\\n    -- sdhq.ods_v_srm_pur_po definition 采购订单表\\n\\nCREATE TABLE `ods_v_srm_pur_po` (\\n  `item_id` BIGINT NOT NULL AUTO_INCREMENT(1) COMMENT \\'采购项目ID\\',\\n  `created_by_code` VARCHAR(255) NULL COMMENT \\'采购订单行创建人员工编号\\',\\n  `created_by_name` VARCHAR(255) NULL COMMENT \\'采购订单行创建人名称\\',\\n  `updated_by_code` VARCHAR(255) NULL COMMENT \\'采购订单行更新人员工编号\\',\\n  `updated_by_name` VARCHAR(255) NULL COMMENT \\'采购订单行更新人名称\\',\\n  `created_at` DATETIME NULL COMMENT \\'采购订单行创建时间\\',\\n  `updated_at` DATETIME NULL COMMENT \\'采购订单行更新时间\\',\\n  `item_deleted` TINYINT NULL COMMENT \\'采购订单行逻辑删除标识。非0为删除；0正常\\',\\n  `po_item_code` VARCHAR(255) NULL COMMENT \\'采购订单行编号\\',\\n  `po_item_qty_pur` DECIMAL(18, 2) NULL COMMENT \\'订单数量\\',\\n  `po_item_qty_ful` DECIMAL(18, 2) NULL COMMENT \\'累计入库数量\\',\\n  `price_gross` DECIMAL(18, 2) NULL COMMENT \\'含税单价\\',\\n  `amount_gross` DECIMAL(18, 2) NULL COMMENT \\'含税总金额\\',\\n  `amount_net` DECIMAL(18, 2) NULL COMMENT \\'不含税金额\\',\\n  `tax_amount` DECIMAL(18, 2) NULL COMMENT \\'税额\\',\\n  `mat_code` VARCHAR(255) NULL COMMENT \\'采购订单行 物料信息编码\\',\\n  `mat_name` VARCHAR(500) NULL COMMENT \\'采购订单行 物料信息名称\\',\\n  `ext_wq_specification` VARCHAR(500) NULL COMMENT \\'采购订单行 物料信息规格型号\\',\\n  `uom_desc` VARCHAR(255) NULL COMMENT \\'采购订单行 物料单位\\',\\n  `mat_cate_code` VARCHAR(255) NULL COMMENT \\'采购订单行 物料分类编码\\',\\n  `mat_cate_name` VARCHAR(255) NULL COMMENT \\'采购订单行 物料分类名称\\',\\n  `mat_prop` VARCHAR(255) NULL COMMENT \\'采购订单行 物料属性\\',\\n  `po_item_qty_rg` DECIMAL(18, 2) NULL COMMENT \\'累计申请退货数量\\',\\n  `pur_po_head_tr_id` BIGINT NULL COMMENT \\'采购订单表头id\\',\\n  `po_item_qty_dn` DECIMAL(18, 2) NULL COMMENT \\'在途数量\\',\\n  `arrival_quantity` DECIMAL(18, 2) NULL COMMENT \\'已到货未入库数量\\',\\n  `exchange_quantity` DECIMAL(18, 2) NULL COMMENT \\'换货数量\\',\\n  `item_status` VARCHAR(255) NULL COMMENT \\'采购订单行状态\\',\\n  `del_remain_qty` DECIMAL(18, 2) NULL COMMENT \\'剩余可发货数量\\',\\n  `head_id` BIGINT NULL COMMENT \\'采购订单头表id\\',\\n  `head_deleted` TINYINT NULL COMMENT \\'采购订请单头表逻辑删除标识。非0为删除；0正常\\',\\n  `po_code` VARCHAR(255) NULL COMMENT \\'采购订请单头表订单编号\\',\\n  `status` VARCHAR(255) NULL COMMENT \\'采购订请单头表状态\\',\\n  `ext_wq_sync_state` VARCHAR(255) NULL COMMENT \\'采购订请单头表同步状态\\',\\n  `ext_wq_buy_type` VARCHAR(255) NULL COMMENT \\'采购订请单头表请购类型\\',\\n  `ext_wq_po_type` VARCHAR(255) NULL COMMENT \\'采购订请单头表单据类型—魏桥\\',\\n  `bud_project_name` VARCHAR(255) NULL COMMENT \\'施工项目名称\\',\\n  `ext_inv_org_unit_name` VARCHAR(255) NULL COMMENT \\'需求部门名称\\',\\n  `pur_org_name` VARCHAR(255) NULL COMMENT \\'采购组织名称\\',\\n  `vend_name` VARCHAR(255) NULL COMMENT \\'供应商名称\\',\\n  `inv_org_name` VARCHAR(255) NULL COMMENT \\'库存组织名称\\',\\n  `industry_type` VARCHAR(255) NULL COMMENT \\'库存组织所属行业属性\\',\\n  `inv_loc_name` VARCHAR(255) NULL COMMENT \\'库存地点名称\\',\\n  `elt_time` DATETIME NULL COMMENT \\'抽取时间\\'\\n) ENGINE=OLAP\\nUNIQUE KEY(`item_id`)\\nCOMMENT \\'采购订单视图表\\'\\nDISTRIBUTED BY HASH(`item_id`) BUCKETS AUTO\\nPROPERTIES (\\n\"replication_allocation\" = \"tag.location.default: 1\",\\n\"min_load_replica_num\" = \"-1\",\\n\"is_being_synced\" = \"false\",\\n\"storage_medium\" = \"hdd\",\\n\"storage_format\" = \"V2\",\\n\"inverted_index_storage_format\" = \"V1\",\\n\"enable_unique_key_merge_on_write\" = \"true\",\\n\"light_schema_change\" = \"true\",\\n\"disable_auto_compaction\" = \"false\",\\n\"enable_single_replica_compaction\" = \"false\",\\n\"group_commit_interval_ms\" = \"10000\",\\n\"group_commit_data_bytes\" = \"134217728\"\\n);\\n\\n\\n\\n-- sdhq.ods_v_srm_pur_pr definition  采购申请表\\n\\nCREATE TABLE `ods_v_srm_pur_pr` (\\n  `item_id` BIGINT NOT NULL AUTO_INCREMENT(1) COMMENT \\'采购项目ID\\',\\n  `created_by_code` VARCHAR(255) NULL COMMENT \\'采购申请行创建人员工编号\\',\\n  `created_by_name` VARCHAR(255) NULL COMMENT \\'采购申请行创建人名称\\',\\n  `updated_by_code` VARCHAR(255) NULL COMMENT \\'采购申请行更新人员工编号\\',\\n  `updated_by_name` VARCHAR(255) NULL COMMENT \\'采购申请行更新人名称\\',\\n  `created_at` DATETIME NULL COMMENT \\'采购申请行创建时间\\',\\n  `updated_at` DATETIME NULL COMMENT \\'采购申请行更新时间\\',\\n  `item_deleted` TINYINT NULL COMMENT \\'采购申请行逻辑删除标识。非0为删除；0正常\\',\\n  `pr_item_status` VARCHAR(255) NULL COMMENT \\'采购申请行 行状态\\',\\n  `pr_qty` DOUBLE NULL COMMENT \\'采购申请行申请数量\\',\\n  `mat_code` VARCHAR(255) NULL COMMENT \\'采购申请行 物料信息编码\\',\\n  `mat_name` VARCHAR(600) NULL COMMENT \\'采购申请行 物料信息名称\\',\\n  `ext_wq_specification` VARCHAR(600) NULL COMMENT \\'采购申请行 物料信息规格型号\\',\\n  `uom_desc` VARCHAR(255) NULL COMMENT \\'采购申请行 物料单位\\',\\n  `mat_cate_code` VARCHAR(255) NULL COMMENT \\'采购申请行 物料分类编码\\',\\n  `mat_cate_name` VARCHAR(255) NULL COMMENT \\'采购申请行 物料分类名称\\',\\n  `mat_prop` VARCHAR(255) NULL COMMENT \\'采购申请行 物料属性\\',\\n  `pur_employee_code` VARCHAR(255) NULL COMMENT \\'采购员编码\\',\\n  `pur_employee_name` VARCHAR(255) NULL COMMENT \\'采购员名称\\',\\n  `pur_pr_head_tr_id` BIGINT NULL COMMENT \\'采购申请单据表id\\',\\n  `ext_wq_sync_status` VARCHAR(255) NULL COMMENT \\'采购申请行同步状态\\',\\n  `head_id` BIGINT NULL COMMENT \\'采购申请单id\\',\\n  `head_deleted` TINYINT NULL COMMENT \\'采购申请单逻辑删除标识。非0为删除；0正常\\',\\n  `pr_code` VARCHAR(255) NULL COMMENT \\'采购申请单编号\\',\\n  `pr_status` VARCHAR(255) NULL COMMENT \\'采购申请单状态\\',\\n  `approve_status` VARCHAR(255) NULL COMMENT \\'审批状态\\',\\n  `origin` VARCHAR(255) NULL COMMENT \\'来源\\',\\n  `stock_control_name` VARCHAR(255) NULL COMMENT \\'库存组织名称\\',\\n  `industry_type` VARCHAR(255) NULL COMMENT \\'库存组织所属行业类型\\',\\n  `buy_type` VARCHAR(255) NULL COMMENT \\'请购类型\\',\\n  `pur_org_name` VARCHAR(255) NULL COMMENT \\'采购组织名称\\',\\n  `sync_status` VARCHAR(255) NULL COMMENT \\'同步状态\\',\\n  `pr_date_apply` DATE NULL COMMENT \\'申请日期\\',\\n  `buy_store_name` VARCHAR(255) NULL COMMENT \\'需求仓库名称（需求公司名称）\\',\\n  `buy_department_name` VARCHAR(255) NULL COMMENT \\'需求部门名称\\',\\n  `ext_wq_erp_code` VARCHAR(255) NULL COMMENT \\'外部单据编号\\',\\n  `use_to` VARCHAR(255) NULL COMMENT \\'用途\\',\\n  `plan_type_name` VARCHAR(255) NULL COMMENT \\'计划类型名称\\',\\n  `ext_wq_task_name` VARCHAR(255) NULL COMMENT \\'施工项目名称\\',\\n  `elt_time` DATETIME NULL COMMENT \\'抽取时间\\'\\n) ENGINE=OLAP\\nUNIQUE KEY(`item_id`)\\nCOMMENT \\'采购申请视图表\\'\\nDISTRIBUTED BY HASH(`item_id`) BUCKETS AUTO\\nPROPERTIES (\\n\"replication_allocation\" = \"tag.location.default: 1\",\\n\"min_load_replica_num\" = \"-1\",\\n\"is_being_synced\" = \"false\",\\n\"storage_medium\" = \"hdd\",\\n\"storage_format\" = \"V2\",\\n\"inverted_index_storage_format\" = \"V1\",\\n\"enable_unique_key_merge_on_write\" = \"true\",\\n\"light_schema_change\" = \"true\",\\n\"disable_auto_compaction\" = \"false\",\\n\"enable_single_replica_compaction\" = \"false\",\\n\"group_commit_interval_ms\" = \"10000\",\\n\"group_commit_data_bytes\" = \"134217728\"\\n);\\n\\n\\n===Response Guidelines \\n1. If the provided context is sufficient, please generate a valid SQL query without any explanations for the question. \\n2. If the provided context is almost sufficient but requires knowledge of a specific string in a particular column, please generate an intermediate SQL query to find the distinct strings in that column. Prepend the query with a comment saying intermediate_sql \\n3. If the provided context is insufficient, please explain why it can\\'t be generated. \\n4. Please use the most relevant table(s). \\n5. If the question has been asked and answered before, please repeat the answer exactly as it was given before. \\n6. Ensure that the output SQL is SQL-compliant and executable, and free of syntax errors. \\n'}, {'role': 'user', 'content': '订单数量排名前五的采购订单信息,查询的字段必须有其对应的中文别名。'}]\n",
      "Using model qwen25:72b for 1733.5 tokens (approx)\n",
      "LLM Response: ```sql\n",
      "SELECT \n",
      "  `item_id` AS '采购项目ID',\n",
      "  `created_by_code` AS '采购订单行创建人员工编号',\n",
      "  `created_by_name` AS '采购订单行创建人名称',\n",
      "  `updated_by_code` AS '采购订单行更新人员工编号',\n",
      "  `updated_by_name` AS '采购订单行更新人名称',\n",
      "  `created_at` AS '采购订单行创建时间',\n",
      "  `updated_at` AS '采购订单行更新时间',\n",
      "  `item_deleted` AS '采购订单行逻辑删除标识',\n",
      "  `po_item_code` AS '采购订单行编号',\n",
      "  `po_item_qty_pur` AS '订单数量',\n",
      "  `po_item_qty_ful` AS '累计入库数量',\n",
      "  `price_gross` AS '含税单价',\n",
      "  `amount_gross` AS '含税总金额',\n",
      "  `amount_net` AS '不含税金额',\n",
      "  `tax_amount` AS '税额',\n",
      "  `mat_code` AS '物料信息编码',\n",
      "  `mat_name` AS '物料信息名称',\n",
      "  `ext_wq_specification` AS '物料信息规格型号',\n",
      "  `uom_desc` AS '物料单位',\n",
      "  `mat_cate_code` AS '物料分类编码',\n",
      "  `mat_cate_name` AS '物料分类名称',\n",
      "  `mat_prop` AS '物料属性',\n",
      "  `po_item_qty_rg` AS '累计申请退货数量',\n",
      "  `pur_po_head_tr_id` AS '采购订单表头id',\n",
      "  `po_item_qty_dn` AS '在途数量',\n",
      "  `arrival_quantity` AS '已到货未入库数量',\n",
      "  `exchange_quantity` AS '换货数量',\n",
      "  `item_status` AS '采购订单行状态',\n",
      "  `del_remain_qty` AS '剩余可发货数量',\n",
      "  `head_id` AS '采购订单头表id',\n",
      "  `head_deleted` AS '采购订请单头表逻辑删除标识',\n",
      "  `po_code` AS '采购订请单头表订单编号',\n",
      "  `status` AS '采购订请单头表状态',\n",
      "  `ext_wq_sync_state` AS '采购订请单头表同步状态',\n",
      "  `ext_wq_buy_type` AS '采购订请单头表请购类型',\n",
      "  `ext_wq_po_type` AS '采购订请单头表单据类型—魏桥',\n",
      "  `bud_project_name` AS '施工项目名称',\n",
      "  `ext_inv_org_unit_name` AS '需求部门名称',\n",
      "  `pur_org_name` AS '采购组织名称',\n",
      "  `vend_name` AS '供应商名称',\n",
      "  `inv_org_name` AS '库存组织名称',\n",
      "  `industry_type` AS '库存组织所属行业属性',\n",
      "  `inv_loc_name` AS '库存地点名称',\n",
      "  `elt_time` AS '抽取时间'\n",
      "FROM \n",
      "  `ods_v_srm_pur_po`\n",
      "ORDER BY \n",
      "  `po_item_qty_pur` DESC\n",
      "LIMIT 5;\n",
      "```\n",
      "Extracted SQL: SELECT \n",
      "  `item_id` AS '采购项目ID',\n",
      "  `created_by_code` AS '采购订单行创建人员工编号',\n",
      "  `created_by_name` AS '采购订单行创建人名称',\n",
      "  `updated_by_code` AS '采购订单行更新人员工编号',\n",
      "  `updated_by_name` AS '采购订单行更新人名称',\n",
      "  `created_at` AS '采购订单行创建时间',\n",
      "  `updated_at` AS '采购订单行更新时间',\n",
      "  `item_deleted` AS '采购订单行逻辑删除标识',\n",
      "  `po_item_code` AS '采购订单行编号',\n",
      "  `po_item_qty_pur` AS '订单数量',\n",
      "  `po_item_qty_ful` AS '累计入库数量',\n",
      "  `price_gross` AS '含税单价',\n",
      "  `amount_gross` AS '含税总金额',\n",
      "  `amount_net` AS '不含税金额',\n",
      "  `tax_amount` AS '税额',\n",
      "  `mat_code` AS '物料信息编码',\n",
      "  `mat_name` AS '物料信息名称',\n",
      "  `ext_wq_specification` AS '物料信息规格型号',\n",
      "  `uom_desc` AS '物料单位',\n",
      "  `mat_cate_code` AS '物料分类编码',\n",
      "  `mat_cate_name` AS '物料分类名称',\n",
      "  `mat_prop` AS '物料属性',\n",
      "  `po_item_qty_rg` AS '累计申请退货数量',\n",
      "  `pur_po_head_tr_id` AS '采购订单表头id',\n",
      "  `po_item_qty_dn` AS '在途数量',\n",
      "  `arrival_quantity` AS '已到货未入库数量',\n",
      "  `exchange_quantity` AS '换货数量',\n",
      "  `item_status` AS '采购订单行状态',\n",
      "  `del_remain_qty` AS '剩余可发货数量',\n",
      "  `head_id` AS '采购订单头表id',\n",
      "  `head_deleted` AS '采购订请单头表逻辑删除标识',\n",
      "  `po_code` AS '采购订请单头表订单编号',\n",
      "  `status` AS '采购订请单头表状态',\n",
      "  `ext_wq_sync_state` AS '采购订请单头表同步状态',\n",
      "  `ext_wq_buy_type` AS '采购订请单头表请购类型',\n",
      "  `ext_wq_po_type` AS '采购订请单头表单据类型—魏桥',\n",
      "  `bud_project_name` AS '施工项目名称',\n",
      "  `ext_inv_org_unit_name` AS '需求部门名称',\n",
      "  `pur_org_name` AS '采购组织名称',\n",
      "  `vend_name` AS '供应商名称',\n",
      "  `inv_org_name` AS '库存组织名称',\n",
      "  `industry_type` AS '库存组织所属行业属性',\n",
      "  `inv_loc_name` AS '库存地点名称',\n",
      "  `elt_time` AS '抽取时间'\n",
      "FROM \n",
      "  `ods_v_srm_pur_po`\n",
      "ORDER BY \n",
      "  `po_item_qty_pur` DESC\n",
      "LIMIT 5;\n"
     ]
    }
   ],
   "source": [
    "question = '订单数量排名前五的采购订单信息,查询的字段必须有其对应的中文别名。'\n",
    "sql_query = vn.generate_sql(question)"
   ]
  },
  {
   "cell_type": "code",
   "execution_count": 8,
   "metadata": {},
   "outputs": [
    {
     "data": {
      "text/html": [
       "<div>\n",
       "<style scoped>\n",
       "    .dataframe tbody tr th:only-of-type {\n",
       "        vertical-align: middle;\n",
       "    }\n",
       "\n",
       "    .dataframe tbody tr th {\n",
       "        vertical-align: top;\n",
       "    }\n",
       "\n",
       "    .dataframe thead th {\n",
       "        text-align: right;\n",
       "    }\n",
       "</style>\n",
       "<table border=\"1\" class=\"dataframe\">\n",
       "  <thead>\n",
       "    <tr style=\"text-align: right;\">\n",
       "      <th></th>\n",
       "      <th>采购项目ID</th>\n",
       "      <th>采购订单行创建人员工编号</th>\n",
       "      <th>采购订单行创建人名称</th>\n",
       "      <th>采购订单行更新人员工编号</th>\n",
       "      <th>采购订单行更新人名称</th>\n",
       "      <th>采购订单行创建时间</th>\n",
       "      <th>采购订单行更新时间</th>\n",
       "      <th>采购订单行逻辑删除标识</th>\n",
       "      <th>采购订单行编号</th>\n",
       "      <th>订单数量</th>\n",
       "      <th>...</th>\n",
       "      <th>采购订请单头表请购类型</th>\n",
       "      <th>采购订请单头表单据类型—魏桥</th>\n",
       "      <th>施工项目名称</th>\n",
       "      <th>需求部门名称</th>\n",
       "      <th>采购组织名称</th>\n",
       "      <th>供应商名称</th>\n",
       "      <th>库存组织名称</th>\n",
       "      <th>库存组织所属行业属性</th>\n",
       "      <th>库存地点名称</th>\n",
       "      <th>抽取时间</th>\n",
       "    </tr>\n",
       "  </thead>\n",
       "  <tbody>\n",
       "    <tr>\n",
       "      <th>0</th>\n",
       "      <td>2293413</td>\n",
       "      <td>1700435</td>\n",
       "      <td>刘及震</td>\n",
       "      <td>1282386</td>\n",
       "      <td>成鹏飞62825</td>\n",
       "      <td>2024-07-12 16:49:07</td>\n",
       "      <td>2024-07-23 11:48:10</td>\n",
       "      <td>0</td>\n",
       "      <td>POI20240712100805</td>\n",
       "      <td>158580000.00</td>\n",
       "      <td>...</td>\n",
       "      <td>设备物资</td>\n",
       "      <td>常规采购订单</td>\n",
       "      <td>None</td>\n",
       "      <td>魏桥砚山新能源有限公司项目部</td>\n",
       "      <td>集团板块采购部</td>\n",
       "      <td>宁波欧达光电有限公司</td>\n",
       "      <td>魏桥砚山新能源有限公司</td>\n",
       "      <td>新能源</td>\n",
       "      <td>魏桥砚山新能源固定资产仓库</td>\n",
       "      <td>2024-09-13 07:58:55</td>\n",
       "    </tr>\n",
       "    <tr>\n",
       "      <th>1</th>\n",
       "      <td>2769208</td>\n",
       "      <td>1846160</td>\n",
       "      <td>高海伦</td>\n",
       "      <td>1846160</td>\n",
       "      <td>高海伦</td>\n",
       "      <td>2024-12-03 17:28:58</td>\n",
       "      <td>2024-12-03 17:29:21</td>\n",
       "      <td>0</td>\n",
       "      <td>POI20241203100774</td>\n",
       "      <td>7000000.00</td>\n",
       "      <td>...</td>\n",
       "      <td>ZR01原辅料采购申请</td>\n",
       "      <td>常规采购订单</td>\n",
       "      <td>None</td>\n",
       "      <td>None</td>\n",
       "      <td>宏拓板块采购部</td>\n",
       "      <td>南京云海铝业有限公司</td>\n",
       "      <td>邹平宏发铝业科技有限公司</td>\n",
       "      <td>氧化铝</td>\n",
       "      <td>熔铸原料仓</td>\n",
       "      <td>2024-12-04 02:01:16</td>\n",
       "    </tr>\n",
       "    <tr>\n",
       "      <th>2</th>\n",
       "      <td>2612369</td>\n",
       "      <td>1333614</td>\n",
       "      <td>张少英62975</td>\n",
       "      <td>LAIGANGYG</td>\n",
       "      <td>LAIGANGYG</td>\n",
       "      <td>2024-10-21 15:54:22</td>\n",
       "      <td>2024-10-21 19:44:49</td>\n",
       "      <td>0</td>\n",
       "      <td>POI20241021101174</td>\n",
       "      <td>6119125.00</td>\n",
       "      <td>...</td>\n",
       "      <td>基建材料</td>\n",
       "      <td>常规采购订单</td>\n",
       "      <td>None</td>\n",
       "      <td>None</td>\n",
       "      <td>宏拓板块采购部</td>\n",
       "      <td>莱钢集团烟台钢管有限公司</td>\n",
       "      <td>滨州市沾化区汇宏新材料有限公司</td>\n",
       "      <td>氧化铝</td>\n",
       "      <td>沾化汇宏粉煤灰基建材料仓库（3）</td>\n",
       "      <td>2024-10-22 02:00:29</td>\n",
       "    </tr>\n",
       "    <tr>\n",
       "      <th>3</th>\n",
       "      <td>2610004</td>\n",
       "      <td>1550942</td>\n",
       "      <td>崔全梅</td>\n",
       "      <td>None</td>\n",
       "      <td>None</td>\n",
       "      <td>2024-10-18 07:59:27</td>\n",
       "      <td>2024-10-18 10:02:34</td>\n",
       "      <td>0</td>\n",
       "      <td>POI20241018100033</td>\n",
       "      <td>5595092.00</td>\n",
       "      <td>...</td>\n",
       "      <td>原材料</td>\n",
       "      <td>常规采购订单</td>\n",
       "      <td>None</td>\n",
       "      <td>None</td>\n",
       "      <td>宏拓板块采购部</td>\n",
       "      <td>山东铁雄冶金科技有限公司</td>\n",
       "      <td>邹平县汇茂新材料科技有限公司</td>\n",
       "      <td>氧化铝</td>\n",
       "      <td>邹平汇茂西区一厂原材料仓库</td>\n",
       "      <td>2024-10-19 02:00:28</td>\n",
       "    </tr>\n",
       "    <tr>\n",
       "      <th>4</th>\n",
       "      <td>2552124</td>\n",
       "      <td>1550942</td>\n",
       "      <td>崔全梅</td>\n",
       "      <td>None</td>\n",
       "      <td>None</td>\n",
       "      <td>2024-10-02 09:50:31</td>\n",
       "      <td>2024-10-02 10:01:30</td>\n",
       "      <td>0</td>\n",
       "      <td>POI20241002100187</td>\n",
       "      <td>5521155.00</td>\n",
       "      <td>...</td>\n",
       "      <td>原材料</td>\n",
       "      <td>常规采购订单</td>\n",
       "      <td>None</td>\n",
       "      <td>None</td>\n",
       "      <td>宏拓板块采购部</td>\n",
       "      <td>山东铁雄冶金科技有限公司</td>\n",
       "      <td>邹平县汇茂新材料科技有限公司</td>\n",
       "      <td>氧化铝</td>\n",
       "      <td>邹平汇茂西区一厂原材料仓库</td>\n",
       "      <td>2024-10-03 02:00:23</td>\n",
       "    </tr>\n",
       "  </tbody>\n",
       "</table>\n",
       "<p>5 rows × 44 columns</p>\n",
       "</div>"
      ],
      "text/plain": [
       "    采购项目ID 采购订单行创建人员工编号 采购订单行创建人名称 采购订单行更新人员工编号 采购订单行更新人名称  \\\n",
       "0  2293413      1700435        刘及震      1282386   成鹏飞62825   \n",
       "1  2769208      1846160        高海伦      1846160        高海伦   \n",
       "2  2612369      1333614   张少英62975    LAIGANGYG  LAIGANGYG   \n",
       "3  2610004      1550942        崔全梅         None       None   \n",
       "4  2552124      1550942        崔全梅         None       None   \n",
       "\n",
       "            采购订单行创建时间           采购订单行更新时间  采购订单行逻辑删除标识            采购订单行编号  \\\n",
       "0 2024-07-12 16:49:07 2024-07-23 11:48:10            0  POI20240712100805   \n",
       "1 2024-12-03 17:28:58 2024-12-03 17:29:21            0  POI20241203100774   \n",
       "2 2024-10-21 15:54:22 2024-10-21 19:44:49            0  POI20241021101174   \n",
       "3 2024-10-18 07:59:27 2024-10-18 10:02:34            0  POI20241018100033   \n",
       "4 2024-10-02 09:50:31 2024-10-02 10:01:30            0  POI20241002100187   \n",
       "\n",
       "           订单数量  ...  采购订请单头表请购类型 采购订请单头表单据类型—魏桥 施工项目名称          需求部门名称  \\\n",
       "0  158580000.00  ...         设备物资         常规采购订单   None  魏桥砚山新能源有限公司项目部   \n",
       "1    7000000.00  ...  ZR01原辅料采购申请         常规采购订单   None            None   \n",
       "2    6119125.00  ...         基建材料         常规采购订单   None            None   \n",
       "3    5595092.00  ...          原材料         常规采购订单   None            None   \n",
       "4    5521155.00  ...          原材料         常规采购订单   None            None   \n",
       "\n",
       "    采购组织名称         供应商名称           库存组织名称 库存组织所属行业属性            库存地点名称  \\\n",
       "0  集团板块采购部    宁波欧达光电有限公司      魏桥砚山新能源有限公司        新能源     魏桥砚山新能源固定资产仓库   \n",
       "1  宏拓板块采购部    南京云海铝业有限公司     邹平宏发铝业科技有限公司        氧化铝             熔铸原料仓   \n",
       "2  宏拓板块采购部  莱钢集团烟台钢管有限公司  滨州市沾化区汇宏新材料有限公司        氧化铝  沾化汇宏粉煤灰基建材料仓库（3）   \n",
       "3  宏拓板块采购部  山东铁雄冶金科技有限公司   邹平县汇茂新材料科技有限公司        氧化铝     邹平汇茂西区一厂原材料仓库   \n",
       "4  宏拓板块采购部  山东铁雄冶金科技有限公司   邹平县汇茂新材料科技有限公司        氧化铝     邹平汇茂西区一厂原材料仓库   \n",
       "\n",
       "                 抽取时间  \n",
       "0 2024-09-13 07:58:55  \n",
       "1 2024-12-04 02:01:16  \n",
       "2 2024-10-22 02:00:29  \n",
       "3 2024-10-19 02:00:28  \n",
       "4 2024-10-03 02:00:23  \n",
       "\n",
       "[5 rows x 44 columns]"
      ]
     },
     "execution_count": 8,
     "metadata": {},
     "output_type": "execute_result"
    }
   ],
   "source": [
    "df_result = vn.run_sql(sql_query)\n",
    "df_result"
   ]
  },
  {
   "cell_type": "code",
   "execution_count": 9,
   "metadata": {},
   "outputs": [
    {
     "name": "stdout",
     "output_type": "stream",
     "text": [
      "Using model qwen25:72b for 981.75 tokens (approx)\n"
     ]
    },
    {
     "data": {
      "text/plain": [
       "'import plotly.express as px\\nimport plotly.graph_objects as go\\n\\nif len(df) == 1:\\n    fig = go.Figure(go.Indicator(\\n        mode = \"number\",\\n        value = df[\\'订单数量\\'].iloc[0],\\n        title = {\"text\": \"订单数量\"}\\n    ))\\nelse:\\n    fig = px.bar(df, x=\\'采购订单行编号\\', y=\\'订单数量\\', title=\\'订单数量排名前五的采购订单信息\\')\\n\\n'"
      ]
     },
     "execution_count": 9,
     "metadata": {},
     "output_type": "execute_result"
    }
   ],
   "source": [
    "poltly_code  = vn.generate_plotly_code(question,sql_query,df_result)\n",
    "poltly_code"
   ]
  },
  {
   "cell_type": "code",
   "execution_count": 10,
   "metadata": {},
   "outputs": [
    {
     "data": {
      "application/vnd.plotly.v1+json": {
       "config": {
        "plotlyServerURL": "https://plot.ly"
       },
       "data": [
        {
         "alignmentgroup": "True",
         "hovertemplate": "采购订单行编号=%{x}<br>订单数量=%{y}<extra></extra>",
         "legendgroup": "",
         "marker": {
          "color": "#636efa",
          "pattern": {
           "shape": ""
          }
         },
         "name": "",
         "offsetgroup": "",
         "orientation": "v",
         "showlegend": false,
         "textposition": "auto",
         "type": "bar",
         "x": [
          "POI20240712100805",
          "POI20241203100774",
          "POI20241021101174",
          "POI20241018100033",
          "POI20241002100187"
         ],
         "xaxis": "x",
         "y": [
          158580000,
          7000000,
          6119125,
          5595092,
          5521155
         ],
         "yaxis": "y"
        }
       ],
       "layout": {
        "barmode": "relative",
        "legend": {
         "tracegroupgap": 0
        },
        "template": {
         "data": {
          "bar": [
           {
            "error_x": {
             "color": "#2a3f5f"
            },
            "error_y": {
             "color": "#2a3f5f"
            },
            "marker": {
             "line": {
              "color": "#E5ECF6",
              "width": 0.5
             },
             "pattern": {
              "fillmode": "overlay",
              "size": 10,
              "solidity": 0.2
             }
            },
            "type": "bar"
           }
          ],
          "barpolar": [
           {
            "marker": {
             "line": {
              "color": "#E5ECF6",
              "width": 0.5
             },
             "pattern": {
              "fillmode": "overlay",
              "size": 10,
              "solidity": 0.2
             }
            },
            "type": "barpolar"
           }
          ],
          "carpet": [
           {
            "aaxis": {
             "endlinecolor": "#2a3f5f",
             "gridcolor": "white",
             "linecolor": "white",
             "minorgridcolor": "white",
             "startlinecolor": "#2a3f5f"
            },
            "baxis": {
             "endlinecolor": "#2a3f5f",
             "gridcolor": "white",
             "linecolor": "white",
             "minorgridcolor": "white",
             "startlinecolor": "#2a3f5f"
            },
            "type": "carpet"
           }
          ],
          "choropleth": [
           {
            "colorbar": {
             "outlinewidth": 0,
             "ticks": ""
            },
            "type": "choropleth"
           }
          ],
          "contour": [
           {
            "colorbar": {
             "outlinewidth": 0,
             "ticks": ""
            },
            "colorscale": [
             [
              0,
              "#0d0887"
             ],
             [
              0.1111111111111111,
              "#46039f"
             ],
             [
              0.2222222222222222,
              "#7201a8"
             ],
             [
              0.3333333333333333,
              "#9c179e"
             ],
             [
              0.4444444444444444,
              "#bd3786"
             ],
             [
              0.5555555555555556,
              "#d8576b"
             ],
             [
              0.6666666666666666,
              "#ed7953"
             ],
             [
              0.7777777777777778,
              "#fb9f3a"
             ],
             [
              0.8888888888888888,
              "#fdca26"
             ],
             [
              1,
              "#f0f921"
             ]
            ],
            "type": "contour"
           }
          ],
          "contourcarpet": [
           {
            "colorbar": {
             "outlinewidth": 0,
             "ticks": ""
            },
            "type": "contourcarpet"
           }
          ],
          "heatmap": [
           {
            "colorbar": {
             "outlinewidth": 0,
             "ticks": ""
            },
            "colorscale": [
             [
              0,
              "#0d0887"
             ],
             [
              0.1111111111111111,
              "#46039f"
             ],
             [
              0.2222222222222222,
              "#7201a8"
             ],
             [
              0.3333333333333333,
              "#9c179e"
             ],
             [
              0.4444444444444444,
              "#bd3786"
             ],
             [
              0.5555555555555556,
              "#d8576b"
             ],
             [
              0.6666666666666666,
              "#ed7953"
             ],
             [
              0.7777777777777778,
              "#fb9f3a"
             ],
             [
              0.8888888888888888,
              "#fdca26"
             ],
             [
              1,
              "#f0f921"
             ]
            ],
            "type": "heatmap"
           }
          ],
          "heatmapgl": [
           {
            "colorbar": {
             "outlinewidth": 0,
             "ticks": ""
            },
            "colorscale": [
             [
              0,
              "#0d0887"
             ],
             [
              0.1111111111111111,
              "#46039f"
             ],
             [
              0.2222222222222222,
              "#7201a8"
             ],
             [
              0.3333333333333333,
              "#9c179e"
             ],
             [
              0.4444444444444444,
              "#bd3786"
             ],
             [
              0.5555555555555556,
              "#d8576b"
             ],
             [
              0.6666666666666666,
              "#ed7953"
             ],
             [
              0.7777777777777778,
              "#fb9f3a"
             ],
             [
              0.8888888888888888,
              "#fdca26"
             ],
             [
              1,
              "#f0f921"
             ]
            ],
            "type": "heatmapgl"
           }
          ],
          "histogram": [
           {
            "marker": {
             "pattern": {
              "fillmode": "overlay",
              "size": 10,
              "solidity": 0.2
             }
            },
            "type": "histogram"
           }
          ],
          "histogram2d": [
           {
            "colorbar": {
             "outlinewidth": 0,
             "ticks": ""
            },
            "colorscale": [
             [
              0,
              "#0d0887"
             ],
             [
              0.1111111111111111,
              "#46039f"
             ],
             [
              0.2222222222222222,
              "#7201a8"
             ],
             [
              0.3333333333333333,
              "#9c179e"
             ],
             [
              0.4444444444444444,
              "#bd3786"
             ],
             [
              0.5555555555555556,
              "#d8576b"
             ],
             [
              0.6666666666666666,
              "#ed7953"
             ],
             [
              0.7777777777777778,
              "#fb9f3a"
             ],
             [
              0.8888888888888888,
              "#fdca26"
             ],
             [
              1,
              "#f0f921"
             ]
            ],
            "type": "histogram2d"
           }
          ],
          "histogram2dcontour": [
           {
            "colorbar": {
             "outlinewidth": 0,
             "ticks": ""
            },
            "colorscale": [
             [
              0,
              "#0d0887"
             ],
             [
              0.1111111111111111,
              "#46039f"
             ],
             [
              0.2222222222222222,
              "#7201a8"
             ],
             [
              0.3333333333333333,
              "#9c179e"
             ],
             [
              0.4444444444444444,
              "#bd3786"
             ],
             [
              0.5555555555555556,
              "#d8576b"
             ],
             [
              0.6666666666666666,
              "#ed7953"
             ],
             [
              0.7777777777777778,
              "#fb9f3a"
             ],
             [
              0.8888888888888888,
              "#fdca26"
             ],
             [
              1,
              "#f0f921"
             ]
            ],
            "type": "histogram2dcontour"
           }
          ],
          "mesh3d": [
           {
            "colorbar": {
             "outlinewidth": 0,
             "ticks": ""
            },
            "type": "mesh3d"
           }
          ],
          "parcoords": [
           {
            "line": {
             "colorbar": {
              "outlinewidth": 0,
              "ticks": ""
             }
            },
            "type": "parcoords"
           }
          ],
          "pie": [
           {
            "automargin": true,
            "type": "pie"
           }
          ],
          "scatter": [
           {
            "fillpattern": {
             "fillmode": "overlay",
             "size": 10,
             "solidity": 0.2
            },
            "type": "scatter"
           }
          ],
          "scatter3d": [
           {
            "line": {
             "colorbar": {
              "outlinewidth": 0,
              "ticks": ""
             }
            },
            "marker": {
             "colorbar": {
              "outlinewidth": 0,
              "ticks": ""
             }
            },
            "type": "scatter3d"
           }
          ],
          "scattercarpet": [
           {
            "marker": {
             "colorbar": {
              "outlinewidth": 0,
              "ticks": ""
             }
            },
            "type": "scattercarpet"
           }
          ],
          "scattergeo": [
           {
            "marker": {
             "colorbar": {
              "outlinewidth": 0,
              "ticks": ""
             }
            },
            "type": "scattergeo"
           }
          ],
          "scattergl": [
           {
            "marker": {
             "colorbar": {
              "outlinewidth": 0,
              "ticks": ""
             }
            },
            "type": "scattergl"
           }
          ],
          "scattermapbox": [
           {
            "marker": {
             "colorbar": {
              "outlinewidth": 0,
              "ticks": ""
             }
            },
            "type": "scattermapbox"
           }
          ],
          "scatterpolar": [
           {
            "marker": {
             "colorbar": {
              "outlinewidth": 0,
              "ticks": ""
             }
            },
            "type": "scatterpolar"
           }
          ],
          "scatterpolargl": [
           {
            "marker": {
             "colorbar": {
              "outlinewidth": 0,
              "ticks": ""
             }
            },
            "type": "scatterpolargl"
           }
          ],
          "scatterternary": [
           {
            "marker": {
             "colorbar": {
              "outlinewidth": 0,
              "ticks": ""
             }
            },
            "type": "scatterternary"
           }
          ],
          "surface": [
           {
            "colorbar": {
             "outlinewidth": 0,
             "ticks": ""
            },
            "colorscale": [
             [
              0,
              "#0d0887"
             ],
             [
              0.1111111111111111,
              "#46039f"
             ],
             [
              0.2222222222222222,
              "#7201a8"
             ],
             [
              0.3333333333333333,
              "#9c179e"
             ],
             [
              0.4444444444444444,
              "#bd3786"
             ],
             [
              0.5555555555555556,
              "#d8576b"
             ],
             [
              0.6666666666666666,
              "#ed7953"
             ],
             [
              0.7777777777777778,
              "#fb9f3a"
             ],
             [
              0.8888888888888888,
              "#fdca26"
             ],
             [
              1,
              "#f0f921"
             ]
            ],
            "type": "surface"
           }
          ],
          "table": [
           {
            "cells": {
             "fill": {
              "color": "#EBF0F8"
             },
             "line": {
              "color": "white"
             }
            },
            "header": {
             "fill": {
              "color": "#C8D4E3"
             },
             "line": {
              "color": "white"
             }
            },
            "type": "table"
           }
          ]
         },
         "layout": {
          "annotationdefaults": {
           "arrowcolor": "#2a3f5f",
           "arrowhead": 0,
           "arrowwidth": 1
          },
          "autotypenumbers": "strict",
          "coloraxis": {
           "colorbar": {
            "outlinewidth": 0,
            "ticks": ""
           }
          },
          "colorscale": {
           "diverging": [
            [
             0,
             "#8e0152"
            ],
            [
             0.1,
             "#c51b7d"
            ],
            [
             0.2,
             "#de77ae"
            ],
            [
             0.3,
             "#f1b6da"
            ],
            [
             0.4,
             "#fde0ef"
            ],
            [
             0.5,
             "#f7f7f7"
            ],
            [
             0.6,
             "#e6f5d0"
            ],
            [
             0.7,
             "#b8e186"
            ],
            [
             0.8,
             "#7fbc41"
            ],
            [
             0.9,
             "#4d9221"
            ],
            [
             1,
             "#276419"
            ]
           ],
           "sequential": [
            [
             0,
             "#0d0887"
            ],
            [
             0.1111111111111111,
             "#46039f"
            ],
            [
             0.2222222222222222,
             "#7201a8"
            ],
            [
             0.3333333333333333,
             "#9c179e"
            ],
            [
             0.4444444444444444,
             "#bd3786"
            ],
            [
             0.5555555555555556,
             "#d8576b"
            ],
            [
             0.6666666666666666,
             "#ed7953"
            ],
            [
             0.7777777777777778,
             "#fb9f3a"
            ],
            [
             0.8888888888888888,
             "#fdca26"
            ],
            [
             1,
             "#f0f921"
            ]
           ],
           "sequentialminus": [
            [
             0,
             "#0d0887"
            ],
            [
             0.1111111111111111,
             "#46039f"
            ],
            [
             0.2222222222222222,
             "#7201a8"
            ],
            [
             0.3333333333333333,
             "#9c179e"
            ],
            [
             0.4444444444444444,
             "#bd3786"
            ],
            [
             0.5555555555555556,
             "#d8576b"
            ],
            [
             0.6666666666666666,
             "#ed7953"
            ],
            [
             0.7777777777777778,
             "#fb9f3a"
            ],
            [
             0.8888888888888888,
             "#fdca26"
            ],
            [
             1,
             "#f0f921"
            ]
           ]
          },
          "colorway": [
           "#636efa",
           "#EF553B",
           "#00cc96",
           "#ab63fa",
           "#FFA15A",
           "#19d3f3",
           "#FF6692",
           "#B6E880",
           "#FF97FF",
           "#FECB52"
          ],
          "font": {
           "color": "#2a3f5f"
          },
          "geo": {
           "bgcolor": "white",
           "lakecolor": "white",
           "landcolor": "#E5ECF6",
           "showlakes": true,
           "showland": true,
           "subunitcolor": "white"
          },
          "hoverlabel": {
           "align": "left"
          },
          "hovermode": "closest",
          "mapbox": {
           "style": "light"
          },
          "paper_bgcolor": "white",
          "plot_bgcolor": "#E5ECF6",
          "polar": {
           "angularaxis": {
            "gridcolor": "white",
            "linecolor": "white",
            "ticks": ""
           },
           "bgcolor": "#E5ECF6",
           "radialaxis": {
            "gridcolor": "white",
            "linecolor": "white",
            "ticks": ""
           }
          },
          "scene": {
           "xaxis": {
            "backgroundcolor": "#E5ECF6",
            "gridcolor": "white",
            "gridwidth": 2,
            "linecolor": "white",
            "showbackground": true,
            "ticks": "",
            "zerolinecolor": "white"
           },
           "yaxis": {
            "backgroundcolor": "#E5ECF6",
            "gridcolor": "white",
            "gridwidth": 2,
            "linecolor": "white",
            "showbackground": true,
            "ticks": "",
            "zerolinecolor": "white"
           },
           "zaxis": {
            "backgroundcolor": "#E5ECF6",
            "gridcolor": "white",
            "gridwidth": 2,
            "linecolor": "white",
            "showbackground": true,
            "ticks": "",
            "zerolinecolor": "white"
           }
          },
          "shapedefaults": {
           "line": {
            "color": "#2a3f5f"
           }
          },
          "ternary": {
           "aaxis": {
            "gridcolor": "white",
            "linecolor": "white",
            "ticks": ""
           },
           "baxis": {
            "gridcolor": "white",
            "linecolor": "white",
            "ticks": ""
           },
           "bgcolor": "#E5ECF6",
           "caxis": {
            "gridcolor": "white",
            "linecolor": "white",
            "ticks": ""
           }
          },
          "title": {
           "x": 0.05
          },
          "xaxis": {
           "automargin": true,
           "gridcolor": "white",
           "linecolor": "white",
           "ticks": "",
           "title": {
            "standoff": 15
           },
           "zerolinecolor": "white",
           "zerolinewidth": 2
          },
          "yaxis": {
           "automargin": true,
           "gridcolor": "white",
           "linecolor": "white",
           "ticks": "",
           "title": {
            "standoff": 15
           },
           "zerolinecolor": "white",
           "zerolinewidth": 2
          }
         }
        },
        "title": {
         "text": "订单数量排名前五的采购订单信息"
        },
        "xaxis": {
         "anchor": "y",
         "domain": [
          0,
          1
         ],
         "title": {
          "text": "采购订单行编号"
         }
        },
        "yaxis": {
         "anchor": "x",
         "domain": [
          0,
          1
         ],
         "title": {
          "text": "订单数量"
         }
        }
       }
      }
     },
     "metadata": {},
     "output_type": "display_data"
    }
   ],
   "source": [
    "figure = vn.get_plotly_figure(poltly_code,df_result,dark_mode=False)\n",
    "figure"
   ]
  },
  {
   "cell_type": "code",
   "execution_count": 11,
   "metadata": {},
   "outputs": [],
   "source": [
    "import plotly.io as pio\n",
    "plotly_json = pio.to_json(figure)\n",
    "\n"
   ]
  },
  {
   "cell_type": "code",
   "execution_count": 12,
   "metadata": {},
   "outputs": [
    {
     "name": "stdout",
     "output_type": "stream",
     "text": [
      "Using model qwen25:72b for 1621.0 tokens (approx)\n"
     ]
    },
    {
     "data": {
      "text/plain": [
       "'根据订单数量排名前五的采购订单信息如下：\\n\\n1. 采购项目ID：2293413，订单数量：158,580,000，物料信息名称：光伏组件_详见技术协议，供应商名称：宁波欧达光电有限公司。\\n2. 采购项目ID：2769208，订单数量：7,000,000，物料信息名称：铝锰中间合金_ Al-Mn10，供应商名称：南京云海铝业有限公司。\\n3. 采购项目ID：2612369，订单数量：6,119,120，物料信息名称：无缝钢管_Φ219*12 Q345B 定尺10810mm GB6479-2013，供应商名称：莱钢集团烟台钢管有限公司。\\n4. 采购项目ID：2610004，订单数量：5,595,090，物料信息名称：煤气_焦化气，供应商名称：山东铁雄冶金科技有限公司。\\n5. 采购项目ID：2552124，订单数量：5,521,160，物料信息名称：煤气_焦化气，供应商名称：山东铁雄冶金科技有限公司。'"
      ]
     },
     "execution_count": 12,
     "metadata": {},
     "output_type": "execute_result"
    }
   ],
   "source": [
    "sumamary  = vn.generate_summary(question,df_result)\n",
    "sumamary"
   ]
  },
  {
   "cell_type": "code",
   "execution_count": 13,
   "metadata": {},
   "outputs": [
    {
     "data": {
      "application/vnd.plotly.v1+json": {
       "config": {
        "plotlyServerURL": "https://plot.ly"
       },
       "data": [
        {
         "alignmentgroup": "True",
         "hovertemplate": "采购订单行编号=%{x}<br>订单数量=%{y}<extra></extra>",
         "legendgroup": "",
         "marker": {
          "color": "#636efa",
          "pattern": {
           "shape": ""
          }
         },
         "name": "",
         "offsetgroup": "",
         "orientation": "v",
         "showlegend": false,
         "textposition": "auto",
         "type": "bar",
         "x": [
          "POI20240712100805",
          "POI20241203100774",
          "POI20241021101174",
          "POI20241018100033",
          "POI20241002100187"
         ],
         "xaxis": "x",
         "y": [
          158580000,
          7000000,
          6119125,
          5595092,
          5521155
         ],
         "yaxis": "y"
        }
       ],
       "layout": {
        "barmode": "relative",
        "legend": {
         "tracegroupgap": 0
        },
        "template": {
         "data": {
          "bar": [
           {
            "error_x": {
             "color": "#2a3f5f"
            },
            "error_y": {
             "color": "#2a3f5f"
            },
            "marker": {
             "line": {
              "color": "#E5ECF6",
              "width": 0.5
             },
             "pattern": {
              "fillmode": "overlay",
              "size": 10,
              "solidity": 0.2
             }
            },
            "type": "bar"
           }
          ],
          "barpolar": [
           {
            "marker": {
             "line": {
              "color": "#E5ECF6",
              "width": 0.5
             },
             "pattern": {
              "fillmode": "overlay",
              "size": 10,
              "solidity": 0.2
             }
            },
            "type": "barpolar"
           }
          ],
          "carpet": [
           {
            "aaxis": {
             "endlinecolor": "#2a3f5f",
             "gridcolor": "white",
             "linecolor": "white",
             "minorgridcolor": "white",
             "startlinecolor": "#2a3f5f"
            },
            "baxis": {
             "endlinecolor": "#2a3f5f",
             "gridcolor": "white",
             "linecolor": "white",
             "minorgridcolor": "white",
             "startlinecolor": "#2a3f5f"
            },
            "type": "carpet"
           }
          ],
          "choropleth": [
           {
            "colorbar": {
             "outlinewidth": 0,
             "ticks": ""
            },
            "type": "choropleth"
           }
          ],
          "contour": [
           {
            "colorbar": {
             "outlinewidth": 0,
             "ticks": ""
            },
            "colorscale": [
             [
              0,
              "#0d0887"
             ],
             [
              0.1111111111111111,
              "#46039f"
             ],
             [
              0.2222222222222222,
              "#7201a8"
             ],
             [
              0.3333333333333333,
              "#9c179e"
             ],
             [
              0.4444444444444444,
              "#bd3786"
             ],
             [
              0.5555555555555556,
              "#d8576b"
             ],
             [
              0.6666666666666666,
              "#ed7953"
             ],
             [
              0.7777777777777778,
              "#fb9f3a"
             ],
             [
              0.8888888888888888,
              "#fdca26"
             ],
             [
              1,
              "#f0f921"
             ]
            ],
            "type": "contour"
           }
          ],
          "contourcarpet": [
           {
            "colorbar": {
             "outlinewidth": 0,
             "ticks": ""
            },
            "type": "contourcarpet"
           }
          ],
          "heatmap": [
           {
            "colorbar": {
             "outlinewidth": 0,
             "ticks": ""
            },
            "colorscale": [
             [
              0,
              "#0d0887"
             ],
             [
              0.1111111111111111,
              "#46039f"
             ],
             [
              0.2222222222222222,
              "#7201a8"
             ],
             [
              0.3333333333333333,
              "#9c179e"
             ],
             [
              0.4444444444444444,
              "#bd3786"
             ],
             [
              0.5555555555555556,
              "#d8576b"
             ],
             [
              0.6666666666666666,
              "#ed7953"
             ],
             [
              0.7777777777777778,
              "#fb9f3a"
             ],
             [
              0.8888888888888888,
              "#fdca26"
             ],
             [
              1,
              "#f0f921"
             ]
            ],
            "type": "heatmap"
           }
          ],
          "heatmapgl": [
           {
            "colorbar": {
             "outlinewidth": 0,
             "ticks": ""
            },
            "colorscale": [
             [
              0,
              "#0d0887"
             ],
             [
              0.1111111111111111,
              "#46039f"
             ],
             [
              0.2222222222222222,
              "#7201a8"
             ],
             [
              0.3333333333333333,
              "#9c179e"
             ],
             [
              0.4444444444444444,
              "#bd3786"
             ],
             [
              0.5555555555555556,
              "#d8576b"
             ],
             [
              0.6666666666666666,
              "#ed7953"
             ],
             [
              0.7777777777777778,
              "#fb9f3a"
             ],
             [
              0.8888888888888888,
              "#fdca26"
             ],
             [
              1,
              "#f0f921"
             ]
            ],
            "type": "heatmapgl"
           }
          ],
          "histogram": [
           {
            "marker": {
             "pattern": {
              "fillmode": "overlay",
              "size": 10,
              "solidity": 0.2
             }
            },
            "type": "histogram"
           }
          ],
          "histogram2d": [
           {
            "colorbar": {
             "outlinewidth": 0,
             "ticks": ""
            },
            "colorscale": [
             [
              0,
              "#0d0887"
             ],
             [
              0.1111111111111111,
              "#46039f"
             ],
             [
              0.2222222222222222,
              "#7201a8"
             ],
             [
              0.3333333333333333,
              "#9c179e"
             ],
             [
              0.4444444444444444,
              "#bd3786"
             ],
             [
              0.5555555555555556,
              "#d8576b"
             ],
             [
              0.6666666666666666,
              "#ed7953"
             ],
             [
              0.7777777777777778,
              "#fb9f3a"
             ],
             [
              0.8888888888888888,
              "#fdca26"
             ],
             [
              1,
              "#f0f921"
             ]
            ],
            "type": "histogram2d"
           }
          ],
          "histogram2dcontour": [
           {
            "colorbar": {
             "outlinewidth": 0,
             "ticks": ""
            },
            "colorscale": [
             [
              0,
              "#0d0887"
             ],
             [
              0.1111111111111111,
              "#46039f"
             ],
             [
              0.2222222222222222,
              "#7201a8"
             ],
             [
              0.3333333333333333,
              "#9c179e"
             ],
             [
              0.4444444444444444,
              "#bd3786"
             ],
             [
              0.5555555555555556,
              "#d8576b"
             ],
             [
              0.6666666666666666,
              "#ed7953"
             ],
             [
              0.7777777777777778,
              "#fb9f3a"
             ],
             [
              0.8888888888888888,
              "#fdca26"
             ],
             [
              1,
              "#f0f921"
             ]
            ],
            "type": "histogram2dcontour"
           }
          ],
          "mesh3d": [
           {
            "colorbar": {
             "outlinewidth": 0,
             "ticks": ""
            },
            "type": "mesh3d"
           }
          ],
          "parcoords": [
           {
            "line": {
             "colorbar": {
              "outlinewidth": 0,
              "ticks": ""
             }
            },
            "type": "parcoords"
           }
          ],
          "pie": [
           {
            "automargin": true,
            "type": "pie"
           }
          ],
          "scatter": [
           {
            "fillpattern": {
             "fillmode": "overlay",
             "size": 10,
             "solidity": 0.2
            },
            "type": "scatter"
           }
          ],
          "scatter3d": [
           {
            "line": {
             "colorbar": {
              "outlinewidth": 0,
              "ticks": ""
             }
            },
            "marker": {
             "colorbar": {
              "outlinewidth": 0,
              "ticks": ""
             }
            },
            "type": "scatter3d"
           }
          ],
          "scattercarpet": [
           {
            "marker": {
             "colorbar": {
              "outlinewidth": 0,
              "ticks": ""
             }
            },
            "type": "scattercarpet"
           }
          ],
          "scattergeo": [
           {
            "marker": {
             "colorbar": {
              "outlinewidth": 0,
              "ticks": ""
             }
            },
            "type": "scattergeo"
           }
          ],
          "scattergl": [
           {
            "marker": {
             "colorbar": {
              "outlinewidth": 0,
              "ticks": ""
             }
            },
            "type": "scattergl"
           }
          ],
          "scattermapbox": [
           {
            "marker": {
             "colorbar": {
              "outlinewidth": 0,
              "ticks": ""
             }
            },
            "type": "scattermapbox"
           }
          ],
          "scatterpolar": [
           {
            "marker": {
             "colorbar": {
              "outlinewidth": 0,
              "ticks": ""
             }
            },
            "type": "scatterpolar"
           }
          ],
          "scatterpolargl": [
           {
            "marker": {
             "colorbar": {
              "outlinewidth": 0,
              "ticks": ""
             }
            },
            "type": "scatterpolargl"
           }
          ],
          "scatterternary": [
           {
            "marker": {
             "colorbar": {
              "outlinewidth": 0,
              "ticks": ""
             }
            },
            "type": "scatterternary"
           }
          ],
          "surface": [
           {
            "colorbar": {
             "outlinewidth": 0,
             "ticks": ""
            },
            "colorscale": [
             [
              0,
              "#0d0887"
             ],
             [
              0.1111111111111111,
              "#46039f"
             ],
             [
              0.2222222222222222,
              "#7201a8"
             ],
             [
              0.3333333333333333,
              "#9c179e"
             ],
             [
              0.4444444444444444,
              "#bd3786"
             ],
             [
              0.5555555555555556,
              "#d8576b"
             ],
             [
              0.6666666666666666,
              "#ed7953"
             ],
             [
              0.7777777777777778,
              "#fb9f3a"
             ],
             [
              0.8888888888888888,
              "#fdca26"
             ],
             [
              1,
              "#f0f921"
             ]
            ],
            "type": "surface"
           }
          ],
          "table": [
           {
            "cells": {
             "fill": {
              "color": "#EBF0F8"
             },
             "line": {
              "color": "white"
             }
            },
            "header": {
             "fill": {
              "color": "#C8D4E3"
             },
             "line": {
              "color": "white"
             }
            },
            "type": "table"
           }
          ]
         },
         "layout": {
          "annotationdefaults": {
           "arrowcolor": "#2a3f5f",
           "arrowhead": 0,
           "arrowwidth": 1
          },
          "autotypenumbers": "strict",
          "coloraxis": {
           "colorbar": {
            "outlinewidth": 0,
            "ticks": ""
           }
          },
          "colorscale": {
           "diverging": [
            [
             0,
             "#8e0152"
            ],
            [
             0.1,
             "#c51b7d"
            ],
            [
             0.2,
             "#de77ae"
            ],
            [
             0.3,
             "#f1b6da"
            ],
            [
             0.4,
             "#fde0ef"
            ],
            [
             0.5,
             "#f7f7f7"
            ],
            [
             0.6,
             "#e6f5d0"
            ],
            [
             0.7,
             "#b8e186"
            ],
            [
             0.8,
             "#7fbc41"
            ],
            [
             0.9,
             "#4d9221"
            ],
            [
             1,
             "#276419"
            ]
           ],
           "sequential": [
            [
             0,
             "#0d0887"
            ],
            [
             0.1111111111111111,
             "#46039f"
            ],
            [
             0.2222222222222222,
             "#7201a8"
            ],
            [
             0.3333333333333333,
             "#9c179e"
            ],
            [
             0.4444444444444444,
             "#bd3786"
            ],
            [
             0.5555555555555556,
             "#d8576b"
            ],
            [
             0.6666666666666666,
             "#ed7953"
            ],
            [
             0.7777777777777778,
             "#fb9f3a"
            ],
            [
             0.8888888888888888,
             "#fdca26"
            ],
            [
             1,
             "#f0f921"
            ]
           ],
           "sequentialminus": [
            [
             0,
             "#0d0887"
            ],
            [
             0.1111111111111111,
             "#46039f"
            ],
            [
             0.2222222222222222,
             "#7201a8"
            ],
            [
             0.3333333333333333,
             "#9c179e"
            ],
            [
             0.4444444444444444,
             "#bd3786"
            ],
            [
             0.5555555555555556,
             "#d8576b"
            ],
            [
             0.6666666666666666,
             "#ed7953"
            ],
            [
             0.7777777777777778,
             "#fb9f3a"
            ],
            [
             0.8888888888888888,
             "#fdca26"
            ],
            [
             1,
             "#f0f921"
            ]
           ]
          },
          "colorway": [
           "#636efa",
           "#EF553B",
           "#00cc96",
           "#ab63fa",
           "#FFA15A",
           "#19d3f3",
           "#FF6692",
           "#B6E880",
           "#FF97FF",
           "#FECB52"
          ],
          "font": {
           "color": "#2a3f5f"
          },
          "geo": {
           "bgcolor": "white",
           "lakecolor": "white",
           "landcolor": "#E5ECF6",
           "showlakes": true,
           "showland": true,
           "subunitcolor": "white"
          },
          "hoverlabel": {
           "align": "left"
          },
          "hovermode": "closest",
          "mapbox": {
           "style": "light"
          },
          "paper_bgcolor": "white",
          "plot_bgcolor": "#E5ECF6",
          "polar": {
           "angularaxis": {
            "gridcolor": "white",
            "linecolor": "white",
            "ticks": ""
           },
           "bgcolor": "#E5ECF6",
           "radialaxis": {
            "gridcolor": "white",
            "linecolor": "white",
            "ticks": ""
           }
          },
          "scene": {
           "xaxis": {
            "backgroundcolor": "#E5ECF6",
            "gridcolor": "white",
            "gridwidth": 2,
            "linecolor": "white",
            "showbackground": true,
            "ticks": "",
            "zerolinecolor": "white"
           },
           "yaxis": {
            "backgroundcolor": "#E5ECF6",
            "gridcolor": "white",
            "gridwidth": 2,
            "linecolor": "white",
            "showbackground": true,
            "ticks": "",
            "zerolinecolor": "white"
           },
           "zaxis": {
            "backgroundcolor": "#E5ECF6",
            "gridcolor": "white",
            "gridwidth": 2,
            "linecolor": "white",
            "showbackground": true,
            "ticks": "",
            "zerolinecolor": "white"
           }
          },
          "shapedefaults": {
           "line": {
            "color": "#2a3f5f"
           }
          },
          "ternary": {
           "aaxis": {
            "gridcolor": "white",
            "linecolor": "white",
            "ticks": ""
           },
           "baxis": {
            "gridcolor": "white",
            "linecolor": "white",
            "ticks": ""
           },
           "bgcolor": "#E5ECF6",
           "caxis": {
            "gridcolor": "white",
            "linecolor": "white",
            "ticks": ""
           }
          },
          "title": {
           "x": 0.05
          },
          "xaxis": {
           "automargin": true,
           "gridcolor": "white",
           "linecolor": "white",
           "ticks": "",
           "title": {
            "standoff": 15
           },
           "zerolinecolor": "white",
           "zerolinewidth": 2
          },
          "yaxis": {
           "automargin": true,
           "gridcolor": "white",
           "linecolor": "white",
           "ticks": "",
           "title": {
            "standoff": 15
           },
           "zerolinecolor": "white",
           "zerolinewidth": 2
          }
         }
        },
        "title": {
         "text": "订单数量排名前五的采购订单信息"
        },
        "xaxis": {
         "anchor": "y",
         "domain": [
          0,
          1
         ],
         "title": {
          "text": "采购订单行编号"
         }
        },
        "yaxis": {
         "anchor": "x",
         "domain": [
          0,
          1
         ],
         "title": {
          "text": "订单数量"
         }
        }
       }
      }
     },
     "metadata": {},
     "output_type": "display_data"
    }
   ],
   "source": [
    "from plotly.io import from_json\n",
    "\n",
    "fig = from_json(plotly_json)\n",
    "fig.show()"
   ]
  }
 ],
 "metadata": {
  "kernelspec": {
   "display_name": "poetryenv",
   "language": "python",
   "name": "python3"
  },
  "language_info": {
   "codemirror_mode": {
    "name": "ipython",
    "version": 3
   },
   "file_extension": ".py",
   "mimetype": "text/x-python",
   "name": "python",
   "nbconvert_exporter": "python",
   "pygments_lexer": "ipython3",
   "version": "3.11.11"
  }
 },
 "nbformat": 4,
 "nbformat_minor": 2
}
